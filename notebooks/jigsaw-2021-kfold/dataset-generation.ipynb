{
 "cells": [
  {
   "cell_type": "markdown",
   "metadata": {},
   "source": [
    "#### Imports"
   ]
  },
  {
   "cell_type": "code",
   "execution_count": 1,
   "metadata": {},
   "outputs": [],
   "source": [
    "import functools\n",
    "import operator\n",
    "import random\n",
    "import typing as t\n",
    "from pathlib import Path\n",
    "\n",
    "import matplotlib.pyplot as plt\n",
    "import numpy as np\n",
    "import pandas as pd\n",
    "from tqdm.notebook import tqdm"
   ]
  },
  {
   "cell_type": "code",
   "execution_count": 2,
   "metadata": {},
   "outputs": [],
   "source": [
    "tqdm.pandas()"
   ]
  },
  {
   "cell_type": "code",
   "execution_count": 3,
   "metadata": {},
   "outputs": [],
   "source": [
    "def seed_everything(seed: int):\n",
    "    random.seed(seed)\n",
    "    np.random.seed(seed)\n",
    "\n",
    "seed_everything(15)"
   ]
  },
  {
   "cell_type": "markdown",
   "metadata": {},
   "source": [
    "#### Parameter definitions"
   ]
  },
  {
   "cell_type": "code",
   "execution_count": 4,
   "metadata": {},
   "outputs": [],
   "source": [
    "DATA_DIR = Path('/home/jovyan/jigsaw-toxic/data')\n",
    "JIGSAW_DIR = DATA_DIR / 'jigsaw-toxic-severity-rating'\n",
    "DATASET_DIR = DATA_DIR / 'datasets/jigsaw-2021-kfold'"
   ]
  },
  {
   "cell_type": "code",
   "execution_count": 5,
   "metadata": {},
   "outputs": [],
   "source": [
    "!mkdir -p $DATASET_DIR"
   ]
  },
  {
   "cell_type": "markdown",
   "metadata": {},
   "source": [
    "#### Data loading"
   ]
  },
  {
   "cell_type": "code",
   "execution_count": 6,
   "metadata": {},
   "outputs": [],
   "source": [
    "valid_df = pd.read_csv(JIGSAW_DIR / 'valid.csv')"
   ]
  },
  {
   "cell_type": "code",
   "execution_count": 7,
   "metadata": {},
   "outputs": [
    {
     "data": {
      "text/html": [
       "<div>\n",
       "<style scoped>\n",
       "    .dataframe tbody tr th:only-of-type {\n",
       "        vertical-align: middle;\n",
       "    }\n",
       "\n",
       "    .dataframe tbody tr th {\n",
       "        vertical-align: top;\n",
       "    }\n",
       "\n",
       "    .dataframe thead th {\n",
       "        text-align: right;\n",
       "    }\n",
       "</style>\n",
       "<table border=\"1\" class=\"dataframe\">\n",
       "  <thead>\n",
       "    <tr style=\"text-align: right;\">\n",
       "      <th></th>\n",
       "      <th>less_toxic</th>\n",
       "      <th>more_toxic</th>\n",
       "      <th>certainty</th>\n",
       "    </tr>\n",
       "  </thead>\n",
       "  <tbody>\n",
       "    <tr>\n",
       "      <th>0</th>\n",
       "      <td>I think people say its not so absurd, because ...</td>\n",
       "      <td>Re Vandalism. . . .  that is because the user ...</td>\n",
       "      <td>0.666667</td>\n",
       "    </tr>\n",
       "    <tr>\n",
       "      <th>1</th>\n",
       "      <td>You must have the lowest IQ of anyone on wikip...</td>\n",
       "      <td>Wha's a reliable source mike? Something that c...</td>\n",
       "      <td>1.000000</td>\n",
       "    </tr>\n",
       "    <tr>\n",
       "      <th>2</th>\n",
       "      <td>Thanks for removing more of his anonymous, un...</td>\n",
       "      <td>To Bad\\nyou dont have the balls to sign in, I ...</td>\n",
       "      <td>1.000000</td>\n",
       "    </tr>\n",
       "    <tr>\n",
       "      <th>3</th>\n",
       "      <td>\"\\n\\nActually, it clearly does not involve pow...</td>\n",
       "      <td>, 18 November 2006 (UTC)\\n\\nWell comrade. Look...</td>\n",
       "      <td>0.666667</td>\n",
       "    </tr>\n",
       "    <tr>\n",
       "      <th>4</th>\n",
       "      <td>You are not cool \\n\\nYou are the most hated f...</td>\n",
       "      <td>\"== Hey Fuck-head==\\nHey, just wanted to say \"...</td>\n",
       "      <td>1.000000</td>\n",
       "    </tr>\n",
       "    <tr>\n",
       "      <th>...</th>\n",
       "      <td>...</td>\n",
       "      <td>...</td>\n",
       "      <td>...</td>\n",
       "    </tr>\n",
       "    <tr>\n",
       "      <th>10103</th>\n",
       "      <td>Heeeeeeeeeeeeeeyyyyyyyyyyyy dude! Sup!</td>\n",
       "      <td>you deleted my page \\nand i am extrememly mad ...</td>\n",
       "      <td>1.000000</td>\n",
       "    </tr>\n",
       "    <tr>\n",
       "      <th>10104</th>\n",
       "      <td>ATTENTION:''''''\\n\\nANYONE WHO OPPOSES MY OPIN...</td>\n",
       "      <td>suck dick u disrespectful swearing wank!!</td>\n",
       "      <td>1.000000</td>\n",
       "    </tr>\n",
       "    <tr>\n",
       "      <th>10105</th>\n",
       "      <td>Oh yah, and Bayerischermann is another guy try...</td>\n",
       "      <td>Thanks. Also thanks for freezing the article. ...</td>\n",
       "      <td>1.000000</td>\n",
       "    </tr>\n",
       "    <tr>\n",
       "      <th>10106</th>\n",
       "      <td>I had to chop out a section specifically compa...</td>\n",
       "      <td>\"\\n\\nHorrifyingly enough, \"\"ritualistic penis ...</td>\n",
       "      <td>0.666667</td>\n",
       "    </tr>\n",
       "    <tr>\n",
       "      <th>10107</th>\n",
       "      <td>Please kill yourself.</td>\n",
       "      <td>That's a load of crap. You are letting trolls ...</td>\n",
       "      <td>0.666667</td>\n",
       "    </tr>\n",
       "  </tbody>\n",
       "</table>\n",
       "<p>10108 rows × 3 columns</p>\n",
       "</div>"
      ],
      "text/plain": [
       "                                              less_toxic  \\\n",
       "0      I think people say its not so absurd, because ...   \n",
       "1      You must have the lowest IQ of anyone on wikip...   \n",
       "2       Thanks for removing more of his anonymous, un...   \n",
       "3      \"\\n\\nActually, it clearly does not involve pow...   \n",
       "4       You are not cool \\n\\nYou are the most hated f...   \n",
       "...                                                  ...   \n",
       "10103          Heeeeeeeeeeeeeeyyyyyyyyyyyy dude! Sup!      \n",
       "10104  ATTENTION:''''''\\n\\nANYONE WHO OPPOSES MY OPIN...   \n",
       "10105  Oh yah, and Bayerischermann is another guy try...   \n",
       "10106  I had to chop out a section specifically compa...   \n",
       "10107                            Please kill yourself.     \n",
       "\n",
       "                                              more_toxic  certainty  \n",
       "0      Re Vandalism. . . .  that is because the user ...   0.666667  \n",
       "1      Wha's a reliable source mike? Something that c...   1.000000  \n",
       "2      To Bad\\nyou dont have the balls to sign in, I ...   1.000000  \n",
       "3      , 18 November 2006 (UTC)\\n\\nWell comrade. Look...   0.666667  \n",
       "4      \"== Hey Fuck-head==\\nHey, just wanted to say \"...   1.000000  \n",
       "...                                                  ...        ...  \n",
       "10103  you deleted my page \\nand i am extrememly mad ...   1.000000  \n",
       "10104          suck dick u disrespectful swearing wank!!   1.000000  \n",
       "10105  Thanks. Also thanks for freezing the article. ...   1.000000  \n",
       "10106  \"\\n\\nHorrifyingly enough, \"\"ritualistic penis ...   0.666667  \n",
       "10107  That's a load of crap. You are letting trolls ...   0.666667  \n",
       "\n",
       "[10108 rows x 3 columns]"
      ]
     },
     "execution_count": 7,
     "metadata": {},
     "output_type": "execute_result"
    }
   ],
   "source": [
    "valid_df"
   ]
  },
  {
   "cell_type": "markdown",
   "metadata": {},
   "source": [
    "#### K-fold split"
   ]
  },
  {
   "cell_type": "code",
   "execution_count": 8,
   "metadata": {},
   "outputs": [],
   "source": [
    "def split_to_k_folds(df: pd.DataFrame, k: int) -> pd.DataFrame:\n",
    "    df = df.copy().sample(frac=1.0)\n",
    "    df['fold'] = -1\n",
    "    conn_group_list: t.List[t.Set[str]] = []\n",
    "    for _, row in tqdm(df.iterrows(), total=len(df)):\n",
    "        more_text, less_text = str(row['more_toxic']), str(row['less_toxic'])\n",
    "        conn_group = {more_text, less_text}\n",
    "        conn_group_to_join_list = [cg for cg in conn_group_list if more_text in cg or less_text in cg]\n",
    "        conn_group_to_leave_list = [cg for cg in conn_group_list if more_text not in cg and less_text not in cg]\n",
    "        conn_group_list = [functools.reduce(operator.ior, conn_group_to_join_list, conn_group)] + conn_group_to_leave_list\n",
    "    print(f'Found {len(conn_group_list)} connectivity groups.')\n",
    "    fold_set_list = [set() for _ in range(k)]\n",
    "    for conn_group in conn_group_list:\n",
    "        fold_set = min(fold_set_list, key=len)\n",
    "        fold_set |= conn_group\n",
    "    for i, text_set in enumerate(fold_set_list):\n",
    "        df.loc[(df['more_toxic'].isin(text_set)) & (df['less_toxic'].isin(text_set)), 'fold'] = i\n",
    "    return df\n",
    "\n",
    "\n",
    "def test_k_fold_split(df: pd.DataFrame):\n",
    "    text_set = set(df['more_toxic'].unique()) | set(df['less_toxic'].unique())\n",
    "    for text in tqdm(text_set):\n",
    "        assert len(df[(df['more_toxic'] == text) | (df['less_toxic'] == text)]['fold'].unique()) == 1\n"
   ]
  },
  {
   "cell_type": "code",
   "execution_count": 9,
   "metadata": {},
   "outputs": [
    {
     "data": {
      "application/vnd.jupyter.widget-view+json": {
       "model_id": "23bf885c31f94b198f256451e7368614",
       "version_major": 2,
       "version_minor": 0
      },
      "text/plain": [
       "  0%|          | 0/10108 [00:00<?, ?it/s]"
      ]
     },
     "metadata": {},
     "output_type": "display_data"
    },
    {
     "name": "stdout",
     "output_type": "stream",
     "text": [
      "Found 4143 connectivity groups.\n"
     ]
    }
   ],
   "source": [
    "valid_5fold_df = split_to_k_folds(valid_df, k=5)"
   ]
  },
  {
   "cell_type": "code",
   "execution_count": 10,
   "metadata": {},
   "outputs": [
    {
     "data": {
      "application/vnd.jupyter.widget-view+json": {
       "model_id": "8c384d137b724e4d81173ac955756837",
       "version_major": 2,
       "version_minor": 0
      },
      "text/plain": [
       "  0%|          | 0/14251 [00:00<?, ?it/s]"
      ]
     },
     "metadata": {},
     "output_type": "display_data"
    }
   ],
   "source": [
    "test_k_fold_split(valid_5fold_df)"
   ]
  },
  {
   "cell_type": "code",
   "execution_count": 11,
   "metadata": {},
   "outputs": [
    {
     "data": {
      "text/html": [
       "<div>\n",
       "<style scoped>\n",
       "    .dataframe tbody tr th:only-of-type {\n",
       "        vertical-align: middle;\n",
       "    }\n",
       "\n",
       "    .dataframe tbody tr th {\n",
       "        vertical-align: top;\n",
       "    }\n",
       "\n",
       "    .dataframe thead th {\n",
       "        text-align: right;\n",
       "    }\n",
       "</style>\n",
       "<table border=\"1\" class=\"dataframe\">\n",
       "  <thead>\n",
       "    <tr style=\"text-align: right;\">\n",
       "      <th></th>\n",
       "      <th>less_toxic</th>\n",
       "      <th>more_toxic</th>\n",
       "      <th>certainty</th>\n",
       "      <th>fold</th>\n",
       "    </tr>\n",
       "  </thead>\n",
       "  <tbody>\n",
       "    <tr>\n",
       "      <th>6538</th>\n",
       "      <td>Its clear to me that you haven't ever read a b...</td>\n",
       "      <td>and also don't give a shi'ite about your dis/...</td>\n",
       "      <td>0.666667</td>\n",
       "      <td>4</td>\n",
       "    </tr>\n",
       "    <tr>\n",
       "      <th>7331</th>\n",
       "      <td>I'd rather not revert you any further. Tell me...</td>\n",
       "      <td>Because TODD (shorthand from tosser) is part o...</td>\n",
       "      <td>1.000000</td>\n",
       "      <td>2</td>\n",
       "    </tr>\n",
       "    <tr>\n",
       "      <th>6562</th>\n",
       "      <td>\"::::::::::::::They aren't well then why do yo...</td>\n",
       "      <td>Hurricane Katrina \\n\\nYOU ARE CRAP, YOU FUCKI...</td>\n",
       "      <td>1.000000</td>\n",
       "      <td>1</td>\n",
       "    </tr>\n",
       "    <tr>\n",
       "      <th>8749</th>\n",
       "      <td>\"\\nI'm not going to reply to your ignorants co...</td>\n",
       "      <td>Please see a picture of my balls. \\n\\nI am un...</td>\n",
       "      <td>0.666667</td>\n",
       "      <td>2</td>\n",
       "    </tr>\n",
       "    <tr>\n",
       "      <th>4587</th>\n",
       "      <td>\"\\n\\n Niqqudot \\n\\nYou interest in the alepbey...</td>\n",
       "      <td>what is a 3RR anyway....and\\n\\nOH DAMN...John ...</td>\n",
       "      <td>0.666667</td>\n",
       "      <td>2</td>\n",
       "    </tr>\n",
       "    <tr>\n",
       "      <th>...</th>\n",
       "      <td>...</td>\n",
       "      <td>...</td>\n",
       "      <td>...</td>\n",
       "      <td>...</td>\n",
       "    </tr>\n",
       "    <tr>\n",
       "      <th>6528</th>\n",
       "      <td>unblock|unblock my restriction from editing yo...</td>\n",
       "      <td>Gonna fuck you up \\n\\nYou little bitch. 86.17...</td>\n",
       "      <td>0.666667</td>\n",
       "      <td>4</td>\n",
       "    </tr>\n",
       "    <tr>\n",
       "      <th>2693</th>\n",
       "      <td>\"\\n\\nSigh\\nAnother out-of-control administrato...</td>\n",
       "      <td>Islam\\n\\nI was reading the discussion between ...</td>\n",
       "      <td>1.000000</td>\n",
       "      <td>3</td>\n",
       "    </tr>\n",
       "    <tr>\n",
       "      <th>8076</th>\n",
       "      <td>Vinny Burgoo = suspected sock puppet\\n\\nAre yo...</td>\n",
       "      <td>the Jews should be expunged</td>\n",
       "      <td>1.000000</td>\n",
       "      <td>2</td>\n",
       "    </tr>\n",
       "    <tr>\n",
       "      <th>3829</th>\n",
       "      <td>\"\\n\\n Just a reference note.... \\n\\nJoke edit....</td>\n",
       "      <td>By the way, I didn't call you a pompous ass, I...</td>\n",
       "      <td>1.000000</td>\n",
       "      <td>1</td>\n",
       "    </tr>\n",
       "    <tr>\n",
       "      <th>7624</th>\n",
       "      <td>\"\\n 2 reverts is not \"\"rapidly approaching 3RR...</td>\n",
       "      <td>Lemme tell you sumpin', nigga. You are goin' d...</td>\n",
       "      <td>1.000000</td>\n",
       "      <td>0</td>\n",
       "    </tr>\n",
       "  </tbody>\n",
       "</table>\n",
       "<p>10108 rows × 4 columns</p>\n",
       "</div>"
      ],
      "text/plain": [
       "                                             less_toxic  \\\n",
       "6538  Its clear to me that you haven't ever read a b...   \n",
       "7331  I'd rather not revert you any further. Tell me...   \n",
       "6562  \"::::::::::::::They aren't well then why do yo...   \n",
       "8749  \"\\nI'm not going to reply to your ignorants co...   \n",
       "4587  \"\\n\\n Niqqudot \\n\\nYou interest in the alepbey...   \n",
       "...                                                 ...   \n",
       "6528  unblock|unblock my restriction from editing yo...   \n",
       "2693  \"\\n\\nSigh\\nAnother out-of-control administrato...   \n",
       "8076  Vinny Burgoo = suspected sock puppet\\n\\nAre yo...   \n",
       "3829  \"\\n\\n Just a reference note.... \\n\\nJoke edit....   \n",
       "7624  \"\\n 2 reverts is not \"\"rapidly approaching 3RR...   \n",
       "\n",
       "                                             more_toxic  certainty  fold  \n",
       "6538   and also don't give a shi'ite about your dis/...   0.666667     4  \n",
       "7331  Because TODD (shorthand from tosser) is part o...   1.000000     2  \n",
       "6562   Hurricane Katrina \\n\\nYOU ARE CRAP, YOU FUCKI...   1.000000     1  \n",
       "8749   Please see a picture of my balls. \\n\\nI am un...   0.666667     2  \n",
       "4587  what is a 3RR anyway....and\\n\\nOH DAMN...John ...   0.666667     2  \n",
       "...                                                 ...        ...   ...  \n",
       "6528   Gonna fuck you up \\n\\nYou little bitch. 86.17...   0.666667     4  \n",
       "2693  Islam\\n\\nI was reading the discussion between ...   1.000000     3  \n",
       "8076                        the Jews should be expunged   1.000000     2  \n",
       "3829  By the way, I didn't call you a pompous ass, I...   1.000000     1  \n",
       "7624  Lemme tell you sumpin', nigga. You are goin' d...   1.000000     0  \n",
       "\n",
       "[10108 rows x 4 columns]"
      ]
     },
     "execution_count": 11,
     "metadata": {},
     "output_type": "execute_result"
    }
   ],
   "source": [
    "valid_5fold_df"
   ]
  },
  {
   "cell_type": "code",
   "execution_count": 12,
   "metadata": {},
   "outputs": [
    {
     "data": {
      "image/png": "[encoded data removed]",
      "text/plain": [
       "<Figure size 432x288 with 1 Axes>"
      ]
     },
     "metadata": {
      "needs_background": "light"
     },
     "output_type": "display_data"
    }
   ],
   "source": [
    "plt.hist(valid_5fold_df['fold'], bins=5);"
   ]
  },
  {
   "cell_type": "code",
   "execution_count": 13,
   "metadata": {},
   "outputs": [],
   "source": [
    "valid_5fold_df.to_csv(DATASET_DIR / 'train_5fold.csv', index=False)"
   ]
  },
  {
   "cell_type": "markdown",
   "metadata": {},
   "source": [
    "#### Data augmentation"
   ]
  },
  {
   "cell_type": "code",
   "execution_count": 14,
   "metadata": {},
   "outputs": [],
   "source": [
    "valid_5fold_df = pd.read_csv(DATASET_DIR / 'train_5fold.csv')"
   ]
  },
  {
   "cell_type": "code",
   "execution_count": 15,
   "metadata": {},
   "outputs": [],
   "source": [
    "def augment_by_connectivity_components_iteration(df: pd.DataFrame) -> pd.DataFrame:\n",
    "    row_list = []\n",
    "    pair_id_set = {str(row['less_toxic']) + ' ' + str(row['more_toxic']) for _, row in df.iterrows()}\n",
    "    for _, row in tqdm(df.iterrows(), total=len(df)):\n",
    "        more_toxic = str(row['more_toxic'])\n",
    "        less_toxic = str(row['less_toxic'])\n",
    "        fold = int(row['fold'])\n",
    "        is_augmented = int(row.get('is_augmented', 0))\n",
    "        certainty = float(row['certainty'])\n",
    "        for _, less_row in df[df['more_toxic'] == less_toxic].iterrows():\n",
    "            pair_id = str(less_row['less_toxic']) + ' ' + more_toxic\n",
    "            if pair_id not in pair_id_set:\n",
    "                pair_id_set.add(pair_id)\n",
    "                row_list.append({\n",
    "                    'less_toxic': less_row['less_toxic'],\n",
    "                    'more_toxic': more_toxic,\n",
    "                    'fold': fold,\n",
    "                    'is_augmented': 1,\n",
    "                    'certainty': float(less_row['certainty']) * certainty,\n",
    "                })\n",
    "        for _, more_row in df[df['less_toxic'] == more_toxic].iterrows():\n",
    "            pair_id = less_toxic + ' ' + str(more_row['more_toxic'])\n",
    "            if pair_id not in pair_id_set:\n",
    "                pair_id_set.add(pair_id)\n",
    "                row_list.append({\n",
    "                    'less_toxic': less_toxic,\n",
    "                    'more_toxic': more_row['more_toxic'],\n",
    "                    'fold': fold,\n",
    "                    'is_augmented': 1,\n",
    "                    'certainty': float(more_row['certainty']) * certainty,\n",
    "                })\n",
    "        row_list.append({\n",
    "            'less_toxic': less_toxic,\n",
    "            'more_toxic': more_toxic,\n",
    "            'fold': fold,\n",
    "            'is_augmented': is_augmented,\n",
    "            'certainty': certainty,\n",
    "        })\n",
    "    return pd.DataFrame(row_list)\n",
    "\n",
    "\n",
    "def augment_by_connectivity_components(df: pd.DataFrame, min_new_samples: int) -> pd.DataFrame:\n",
    "    i = 0\n",
    "    while True:\n",
    "        prev_len = len(df)\n",
    "        df = augment_by_connectivity_components_iteration(df)\n",
    "        new_samples = len(df) - prev_len\n",
    "        print(f'i = {i}, new_samples = {new_samples}')\n",
    "        if new_samples < min_new_samples:\n",
    "            break\n",
    "        i += 1\n",
    "    return df"
   ]
  },
  {
   "cell_type": "code",
   "execution_count": 16,
   "metadata": {},
   "outputs": [
    {
     "data": {
      "application/vnd.jupyter.widget-view+json": {
       "model_id": "244b5948c25d4684ade68cd714252fc9",
       "version_major": 2,
       "version_minor": 0
      },
      "text/plain": [
       "  0%|          | 0/10108 [00:00<?, ?it/s]"
      ]
     },
     "metadata": {},
     "output_type": "display_data"
    },
    {
     "name": "stdout",
     "output_type": "stream",
     "text": [
      "i = 0, new_samples = 2991\n"
     ]
    },
    {
     "data": {
      "application/vnd.jupyter.widget-view+json": {
       "model_id": "78f5c6794b39488b949762d247cdd896",
       "version_major": 2,
       "version_minor": 0
      },
      "text/plain": [
       "  0%|          | 0/13099 [00:00<?, ?it/s]"
      ]
     },
     "metadata": {},
     "output_type": "display_data"
    },
    {
     "name": "stdout",
     "output_type": "stream",
     "text": [
      "i = 1, new_samples = 1051\n"
     ]
    },
    {
     "data": {
      "application/vnd.jupyter.widget-view+json": {
       "model_id": "e1ff4cba86aa4228bb8bca052885c3f7",
       "version_major": 2,
       "version_minor": 0
      },
      "text/plain": [
       "  0%|          | 0/14150 [00:00<?, ?it/s]"
      ]
     },
     "metadata": {},
     "output_type": "display_data"
    },
    {
     "name": "stdout",
     "output_type": "stream",
     "text": [
      "i = 2, new_samples = 91\n"
     ]
    },
    {
     "data": {
      "application/vnd.jupyter.widget-view+json": {
       "model_id": "66e6625a4a334ebfbdb9342a1e174f2d",
       "version_major": 2,
       "version_minor": 0
      },
      "text/plain": [
       "  0%|          | 0/14241 [00:00<?, ?it/s]"
      ]
     },
     "metadata": {},
     "output_type": "display_data"
    },
    {
     "name": "stdout",
     "output_type": "stream",
     "text": [
      "i = 3, new_samples = 0\n"
     ]
    }
   ],
   "source": [
    "# valid_5fold_augmented_df = augment_by_connectivity_components(valid_5fold_df)\n",
    "valid_5fold_augmented_df = augment_by_connectivity_components(valid_5fold_df, min_new_samples=10)"
   ]
  },
  {
   "cell_type": "code",
   "execution_count": 17,
   "metadata": {},
   "outputs": [
    {
     "data": {
      "text/html": [
       "<div>\n",
       "<style scoped>\n",
       "    .dataframe tbody tr th:only-of-type {\n",
       "        vertical-align: middle;\n",
       "    }\n",
       "\n",
       "    .dataframe tbody tr th {\n",
       "        vertical-align: top;\n",
       "    }\n",
       "\n",
       "    .dataframe thead th {\n",
       "        text-align: right;\n",
       "    }\n",
       "</style>\n",
       "<table border=\"1\" class=\"dataframe\">\n",
       "  <thead>\n",
       "    <tr style=\"text-align: right;\">\n",
       "      <th></th>\n",
       "      <th>less_toxic</th>\n",
       "      <th>more_toxic</th>\n",
       "      <th>fold</th>\n",
       "      <th>is_augmented</th>\n",
       "      <th>certainty</th>\n",
       "    </tr>\n",
       "  </thead>\n",
       "  <tbody>\n",
       "    <tr>\n",
       "      <th>0</th>\n",
       "      <td>Its clear to me that you haven't ever read a b...</td>\n",
       "      <td>and also don't give a shi'ite about your dis/...</td>\n",
       "      <td>4</td>\n",
       "      <td>0</td>\n",
       "      <td>0.666667</td>\n",
       "    </tr>\n",
       "    <tr>\n",
       "      <th>1</th>\n",
       "      <td>Ding dong, the Witch is dead!\\n\\nSo, so happy ...</td>\n",
       "      <td>denny who the fuck r u \\n\\ndenny u little fuc...</td>\n",
       "      <td>2</td>\n",
       "      <td>1</td>\n",
       "      <td>0.666667</td>\n",
       "    </tr>\n",
       "    <tr>\n",
       "      <th>2</th>\n",
       "      <td>Ding dong, the Witch is dead!\\n\\nSo, so happy ...</td>\n",
       "      <td>Because TODD (shorthand from tosser) is part o...</td>\n",
       "      <td>2</td>\n",
       "      <td>1</td>\n",
       "      <td>0.666667</td>\n",
       "    </tr>\n",
       "    <tr>\n",
       "      <th>3</th>\n",
       "      <td>\"\\n\\n Intro definition \\n\\n\"\"As with other rac...</td>\n",
       "      <td>denny who the fuck r u \\n\\ndenny u little fuc...</td>\n",
       "      <td>2</td>\n",
       "      <td>1</td>\n",
       "      <td>0.666667</td>\n",
       "    </tr>\n",
       "    <tr>\n",
       "      <th>4</th>\n",
       "      <td>\"\\n\\n Intro definition \\n\\n\"\"As with other rac...</td>\n",
       "      <td>Because TODD (shorthand from tosser) is part o...</td>\n",
       "      <td>2</td>\n",
       "      <td>1</td>\n",
       "      <td>0.666667</td>\n",
       "    </tr>\n",
       "    <tr>\n",
       "      <th>...</th>\n",
       "      <td>...</td>\n",
       "      <td>...</td>\n",
       "      <td>...</td>\n",
       "      <td>...</td>\n",
       "      <td>...</td>\n",
       "    </tr>\n",
       "    <tr>\n",
       "      <th>14236</th>\n",
       "      <td>unblock|unblock my restriction from editing yo...</td>\n",
       "      <td>Gonna fuck you up \\n\\nYou little bitch. 86.17...</td>\n",
       "      <td>4</td>\n",
       "      <td>0</td>\n",
       "      <td>0.666667</td>\n",
       "    </tr>\n",
       "    <tr>\n",
       "      <th>14237</th>\n",
       "      <td>\"\\n\\nSigh\\nAnother out-of-control administrato...</td>\n",
       "      <td>Islam\\n\\nI was reading the discussion between ...</td>\n",
       "      <td>3</td>\n",
       "      <td>0</td>\n",
       "      <td>1.000000</td>\n",
       "    </tr>\n",
       "    <tr>\n",
       "      <th>14238</th>\n",
       "      <td>Vinny Burgoo = suspected sock puppet\\n\\nAre yo...</td>\n",
       "      <td>the Jews should be expunged</td>\n",
       "      <td>2</td>\n",
       "      <td>0</td>\n",
       "      <td>1.000000</td>\n",
       "    </tr>\n",
       "    <tr>\n",
       "      <th>14239</th>\n",
       "      <td>\"\\n\\n Just a reference note.... \\n\\nJoke edit....</td>\n",
       "      <td>By the way, I didn't call you a pompous ass, I...</td>\n",
       "      <td>1</td>\n",
       "      <td>0</td>\n",
       "      <td>1.000000</td>\n",
       "    </tr>\n",
       "    <tr>\n",
       "      <th>14240</th>\n",
       "      <td>\"\\n 2 reverts is not \"\"rapidly approaching 3RR...</td>\n",
       "      <td>Lemme tell you sumpin', nigga. You are goin' d...</td>\n",
       "      <td>0</td>\n",
       "      <td>0</td>\n",
       "      <td>1.000000</td>\n",
       "    </tr>\n",
       "  </tbody>\n",
       "</table>\n",
       "<p>14241 rows × 5 columns</p>\n",
       "</div>"
      ],
      "text/plain": [
       "                                              less_toxic  \\\n",
       "0      Its clear to me that you haven't ever read a b...   \n",
       "1      Ding dong, the Witch is dead!\\n\\nSo, so happy ...   \n",
       "2      Ding dong, the Witch is dead!\\n\\nSo, so happy ...   \n",
       "3      \"\\n\\n Intro definition \\n\\n\"\"As with other rac...   \n",
       "4      \"\\n\\n Intro definition \\n\\n\"\"As with other rac...   \n",
       "...                                                  ...   \n",
       "14236  unblock|unblock my restriction from editing yo...   \n",
       "14237  \"\\n\\nSigh\\nAnother out-of-control administrato...   \n",
       "14238  Vinny Burgoo = suspected sock puppet\\n\\nAre yo...   \n",
       "14239  \"\\n\\n Just a reference note.... \\n\\nJoke edit....   \n",
       "14240  \"\\n 2 reverts is not \"\"rapidly approaching 3RR...   \n",
       "\n",
       "                                              more_toxic  fold  is_augmented  \\\n",
       "0       and also don't give a shi'ite about your dis/...     4             0   \n",
       "1       denny who the fuck r u \\n\\ndenny u little fuc...     2             1   \n",
       "2      Because TODD (shorthand from tosser) is part o...     2             1   \n",
       "3       denny who the fuck r u \\n\\ndenny u little fuc...     2             1   \n",
       "4      Because TODD (shorthand from tosser) is part o...     2             1   \n",
       "...                                                  ...   ...           ...   \n",
       "14236   Gonna fuck you up \\n\\nYou little bitch. 86.17...     4             0   \n",
       "14237  Islam\\n\\nI was reading the discussion between ...     3             0   \n",
       "14238                        the Jews should be expunged     2             0   \n",
       "14239  By the way, I didn't call you a pompous ass, I...     1             0   \n",
       "14240  Lemme tell you sumpin', nigga. You are goin' d...     0             0   \n",
       "\n",
       "       certainty  \n",
       "0       0.666667  \n",
       "1       0.666667  \n",
       "2       0.666667  \n",
       "3       0.666667  \n",
       "4       0.666667  \n",
       "...          ...  \n",
       "14236   0.666667  \n",
       "14237   1.000000  \n",
       "14238   1.000000  \n",
       "14239   1.000000  \n",
       "14240   1.000000  \n",
       "\n",
       "[14241 rows x 5 columns]"
      ]
     },
     "execution_count": 17,
     "metadata": {},
     "output_type": "execute_result"
    }
   ],
   "source": [
    "valid_5fold_augmented_df"
   ]
  },
  {
   "cell_type": "code",
   "execution_count": 18,
   "metadata": {},
   "outputs": [
    {
     "data": {
      "image/png": "[encoded data removed]",
      "text/plain": [
       "<Figure size 432x288 with 1 Axes>"
      ]
     },
     "metadata": {
      "needs_background": "light"
     },
     "output_type": "display_data"
    }
   ],
   "source": [
    "plt.hist(valid_5fold_augmented_df[valid_5fold_augmented_df['is_augmented'] == 1]['fold'], bins=5);"
   ]
  },
  {
   "cell_type": "code",
   "execution_count": 19,
   "metadata": {},
   "outputs": [
    {
     "data": {
      "application/vnd.jupyter.widget-view+json": {
       "model_id": "e00d68d5fe664872b83561706becdcbc",
       "version_major": 2,
       "version_minor": 0
      },
      "text/plain": [
       "  0%|          | 0/14241 [00:00<?, ?it/s]"
      ]
     },
     "metadata": {},
     "output_type": "display_data"
    },
    {
     "data": {
      "text/plain": [
       "14241"
      ]
     },
     "execution_count": 19,
     "metadata": {},
     "output_type": "execute_result"
    }
   ],
   "source": [
    "len({row['less_toxic'] + ' ' + row['more_toxic'] for _, row in tqdm(valid_5fold_augmented_df.iterrows(), total=len(valid_5fold_augmented_df))})"
   ]
  },
  {
   "cell_type": "code",
   "execution_count": 20,
   "metadata": {},
   "outputs": [],
   "source": [
    "valid_5fold_augmented_df.to_csv(DATASET_DIR / 'train_5fold_augmented_with_certainty_seed15.csv', index=False)"
   ]
  }
 ],
 "metadata": {
  "interpreter": {
   "hash": "d4d1e4263499bec80672ea0156c357c1ee493ec2b1c70f0acce89fc37c4a6abe"
  },
  "kernelspec": {
   "display_name": "Python 3.9.7 64-bit ('base': conda)",
   "language": "python",
   "name": "python3"
  },
  "language_info": {
   "codemirror_mode": {
    "name": "ipython",
    "version": 3
   },
   "file_extension": ".py",
   "mimetype": "text/x-python",
   "name": "python",
   "nbconvert_exporter": "python",
   "pygments_lexer": "ipython3",
   "version": "3.9.7"
  },
  "orig_nbformat": 4
 },
 "nbformat": 4,
 "nbformat_minor": 2
}
