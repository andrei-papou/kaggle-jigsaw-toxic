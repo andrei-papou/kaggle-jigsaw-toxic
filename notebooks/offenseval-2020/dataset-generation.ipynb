{
 "cells": [
  {
   "cell_type": "code",
   "execution_count": 141,
   "metadata": {},
   "outputs": [],
   "source": [
    "import matplotlib.pyplot as plt\n",
    "import pandas as pd\n",
    "import random\n",
    "import typing as t\n",
    "from pathlib import Path\n",
    "from tqdm.notebook import tqdm\n",
    "from transformers.models.auto.tokenization_auto import AutoTokenizer"
   ]
  },
  {
   "cell_type": "code",
   "execution_count": 131,
   "metadata": {},
   "outputs": [],
   "source": [
    "tqdm.pandas()"
   ]
  },
  {
   "cell_type": "code",
   "execution_count": 3,
   "metadata": {},
   "outputs": [],
   "source": [
    "DATA_DIR = Path('/home/jovyan/jigsaw-toxic/data')\n",
    "DATASETS_DIR = DATA_DIR / 'datasets'\n",
    "OLD_DATASET_DIR = DATA_DIR / 'jigsaw-toxic-20211212'\n",
    "DATASET_DIR = DATASETS_DIR / 'offenseval-2020'"
   ]
  },
  {
   "cell_type": "code",
   "execution_count": 5,
   "metadata": {},
   "outputs": [],
   "source": [
    "!mkdir -p $DATASET_DIR\n",
    "!cp $OLD_DATASET_DIR/valid.csv $DATASET_DIR/valid.csv\n",
    "!cp $OLD_DATASET_DIR/offenseval_2020_bounded_train.csv $DATASET_DIR/train_precise.csv\n",
    "!cp $OLD_DATASET_DIR/offenseval_2020_full_bounded_train.csv $DATASET_DIR/train_full.csv"
   ]
  },
  {
   "cell_type": "code",
   "execution_count": 132,
   "metadata": {},
   "outputs": [],
   "source": [
    "train_precise_df = pd.read_csv(DATASET_DIR / 'train_precise.csv')\n",
    "train_full_df = pd.read_csv(DATASET_DIR / 'train_full.csv')\n",
    "valid_df = pd.read_csv(DATASET_DIR / 'valid.csv')"
   ]
  },
  {
   "cell_type": "code",
   "execution_count": 129,
   "metadata": {},
   "outputs": [
    {
     "data": {
      "text/html": [
       "<div>\n",
       "<style scoped>\n",
       "    .dataframe tbody tr th:only-of-type {\n",
       "        vertical-align: middle;\n",
       "    }\n",
       "\n",
       "    .dataframe tbody tr th {\n",
       "        vertical-align: top;\n",
       "    }\n",
       "\n",
       "    .dataframe thead th {\n",
       "        text-align: right;\n",
       "    }\n",
       "</style>\n",
       "<table border=\"1\" class=\"dataframe\">\n",
       "  <thead>\n",
       "    <tr style=\"text-align: right;\">\n",
       "      <th></th>\n",
       "      <th>id</th>\n",
       "      <th>text</th>\n",
       "      <th>average</th>\n",
       "      <th>std</th>\n",
       "      <th>score_lower</th>\n",
       "      <th>score_upper</th>\n",
       "    </tr>\n",
       "  </thead>\n",
       "  <tbody>\n",
       "    <tr>\n",
       "      <th>0</th>\n",
       "      <td>1159533705125343232</td>\n",
       "      <td>You wanna leave? then feel free cus I promise ...</td>\n",
       "      <td>0.664921</td>\n",
       "      <td>0.097098</td>\n",
       "      <td>0.567823</td>\n",
       "      <td>0.762019</td>\n",
       "    </tr>\n",
       "    <tr>\n",
       "      <th>1</th>\n",
       "      <td>1159533738973257728</td>\n",
       "      <td>@USER @USER His addiction was so bad that all ...</td>\n",
       "      <td>0.503967</td>\n",
       "      <td>0.071867</td>\n",
       "      <td>0.432100</td>\n",
       "      <td>0.575834</td>\n",
       "    </tr>\n",
       "    <tr>\n",
       "      <th>2</th>\n",
       "      <td>1159533771873488897</td>\n",
       "      <td>@USER He has the body language of a common str...</td>\n",
       "      <td>0.443756</td>\n",
       "      <td>0.059675</td>\n",
       "      <td>0.384081</td>\n",
       "      <td>0.503431</td>\n",
       "    </tr>\n",
       "    <tr>\n",
       "      <th>3</th>\n",
       "      <td>1159533777347104769</td>\n",
       "      <td>@USER Mommy, why is that guy next to us has hi...</td>\n",
       "      <td>0.568449</td>\n",
       "      <td>0.095838</td>\n",
       "      <td>0.472611</td>\n",
       "      <td>0.664287</td>\n",
       "    </tr>\n",
       "    <tr>\n",
       "      <th>4</th>\n",
       "      <td>1159533784544550912</td>\n",
       "      <td>Boy flaunting his money on Instagram but could...</td>\n",
       "      <td>0.419205</td>\n",
       "      <td>0.092022</td>\n",
       "      <td>0.327183</td>\n",
       "      <td>0.511227</td>\n",
       "    </tr>\n",
       "    <tr>\n",
       "      <th>...</th>\n",
       "      <td>...</td>\n",
       "      <td>...</td>\n",
       "      <td>...</td>\n",
       "      <td>...</td>\n",
       "      <td>...</td>\n",
       "      <td>...</td>\n",
       "    </tr>\n",
       "    <tr>\n",
       "      <th>386252</th>\n",
       "      <td>1187636060827852800</td>\n",
       "      <td>@USER This is how all of Trump's sycophants sh...</td>\n",
       "      <td>0.536016</td>\n",
       "      <td>0.068163</td>\n",
       "      <td>0.467852</td>\n",
       "      <td>0.604179</td>\n",
       "    </tr>\n",
       "    <tr>\n",
       "      <th>386253</th>\n",
       "      <td>1187636271818125313</td>\n",
       "      <td>@USER Bro I played a map with a cave that was ...</td>\n",
       "      <td>0.371413</td>\n",
       "      <td>0.092340</td>\n",
       "      <td>0.279074</td>\n",
       "      <td>0.463753</td>\n",
       "    </tr>\n",
       "    <tr>\n",
       "      <th>386254</th>\n",
       "      <td>1187425324440707076</td>\n",
       "      <td>I grew up seeing my mom doing the impossible f...</td>\n",
       "      <td>0.545863</td>\n",
       "      <td>0.034873</td>\n",
       "      <td>0.510990</td>\n",
       "      <td>0.580736</td>\n",
       "    </tr>\n",
       "    <tr>\n",
       "      <th>386255</th>\n",
       "      <td>1187628780594049025</td>\n",
       "      <td>@USER Show his face around the internet. We sh...</td>\n",
       "      <td>0.410000</td>\n",
       "      <td>0.096503</td>\n",
       "      <td>0.313497</td>\n",
       "      <td>0.506503</td>\n",
       "    </tr>\n",
       "    <tr>\n",
       "      <th>386256</th>\n",
       "      <td>1187636341338710016</td>\n",
       "      <td>@USER Yes but Boris is a puppet for the ERG an...</td>\n",
       "      <td>0.487383</td>\n",
       "      <td>0.067990</td>\n",
       "      <td>0.419393</td>\n",
       "      <td>0.555373</td>\n",
       "    </tr>\n",
       "  </tbody>\n",
       "</table>\n",
       "<p>386257 rows × 6 columns</p>\n",
       "</div>"
      ],
      "text/plain": [
       "                         id  \\\n",
       "0       1159533705125343232   \n",
       "1       1159533738973257728   \n",
       "2       1159533771873488897   \n",
       "3       1159533777347104769   \n",
       "4       1159533784544550912   \n",
       "...                     ...   \n",
       "386252  1187636060827852800   \n",
       "386253  1187636271818125313   \n",
       "386254  1187425324440707076   \n",
       "386255  1187628780594049025   \n",
       "386256  1187636341338710016   \n",
       "\n",
       "                                                     text   average       std  \\\n",
       "0       You wanna leave? then feel free cus I promise ...  0.664921  0.097098   \n",
       "1       @USER @USER His addiction was so bad that all ...  0.503967  0.071867   \n",
       "2       @USER He has the body language of a common str...  0.443756  0.059675   \n",
       "3       @USER Mommy, why is that guy next to us has hi...  0.568449  0.095838   \n",
       "4       Boy flaunting his money on Instagram but could...  0.419205  0.092022   \n",
       "...                                                   ...       ...       ...   \n",
       "386252  @USER This is how all of Trump's sycophants sh...  0.536016  0.068163   \n",
       "386253  @USER Bro I played a map with a cave that was ...  0.371413  0.092340   \n",
       "386254  I grew up seeing my mom doing the impossible f...  0.545863  0.034873   \n",
       "386255  @USER Show his face around the internet. We sh...  0.410000  0.096503   \n",
       "386256  @USER Yes but Boris is a puppet for the ERG an...  0.487383  0.067990   \n",
       "\n",
       "        score_lower  score_upper  \n",
       "0          0.567823     0.762019  \n",
       "1          0.432100     0.575834  \n",
       "2          0.384081     0.503431  \n",
       "3          0.472611     0.664287  \n",
       "4          0.327183     0.511227  \n",
       "...             ...          ...  \n",
       "386252     0.467852     0.604179  \n",
       "386253     0.279074     0.463753  \n",
       "386254     0.510990     0.580736  \n",
       "386255     0.313497     0.506503  \n",
       "386256     0.419393     0.555373  \n",
       "\n",
       "[386257 rows x 6 columns]"
      ]
     },
     "execution_count": 129,
     "metadata": {},
     "output_type": "execute_result"
    }
   ],
   "source": [
    "train_precise_df"
   ]
  },
  {
   "cell_type": "code",
   "execution_count": 142,
   "metadata": {},
   "outputs": [],
   "source": [
    "tokenizer = AutoTokenizer.from_pretrained('roberta-base')"
   ]
  },
  {
   "cell_type": "code",
   "execution_count": 144,
   "metadata": {},
   "outputs": [
    {
     "data": {
      "text/plain": [
       "{'input_ids': [0, 133, 14490, 23, 997, 8, 961, 16, 3606, 17841, 12410, 6569, 10659, 10674, 2, 1, 1, 1, 1, 1, 1, 1, 1, 1, 1, 1, 1, 1, 1, 1, 1, 1, 1, 1, 1, 1, 1, 1, 1, 1, 1, 1, 1, 1, 1, 1, 1, 1, 1, 1, 1, 1, 1, 1, 1, 1, 1, 1, 1, 1, 1, 1, 1, 1, 1, 1, 1, 1, 1, 1, 1, 1, 1, 1, 1, 1, 1, 1, 1, 1, 1, 1, 1, 1, 1, 1, 1, 1, 1, 1, 1, 1, 1, 1, 1, 1, 1, 1, 1, 1, 1, 1, 1, 1, 1, 1, 1, 1, 1, 1, 1, 1, 1, 1, 1, 1, 1, 1, 1, 1, 1, 1, 1, 1, 1, 1, 1, 1, 1, 1, 1, 1, 1, 1, 1, 1, 1, 1, 1, 1, 1, 1, 1, 1, 1, 1, 1, 1, 1, 1, 1, 1, 1, 1, 1, 1, 1, 1, 1, 1, 1, 1, 1, 1, 1, 1, 1, 1, 1, 1, 1, 1, 1, 1, 1, 1, 1, 1, 1, 1, 1, 1, 1, 1, 1, 1, 1, 1, 1, 1, 1, 1, 1, 1, 1, 1, 1, 1, 1, 1, 1, 1, 1, 1, 1, 1, 1, 1, 1, 1, 1, 1, 1, 1, 1, 1, 1, 1, 1, 1, 1, 1, 1, 1, 1, 1, 1, 1, 1, 1, 1, 1, 1, 1, 1, 1, 1, 1, 1, 1, 1, 1, 1, 1, 1, 1, 1, 1, 1, 1, 1, 1, 1, 1, 1, 1], 'attention_mask': [1, 1, 1, 1, 1, 1, 1, 1, 1, 1, 1, 1, 1, 1, 1, 0, 0, 0, 0, 0, 0, 0, 0, 0, 0, 0, 0, 0, 0, 0, 0, 0, 0, 0, 0, 0, 0, 0, 0, 0, 0, 0, 0, 0, 0, 0, 0, 0, 0, 0, 0, 0, 0, 0, 0, 0, 0, 0, 0, 0, 0, 0, 0, 0, 0, 0, 0, 0, 0, 0, 0, 0, 0, 0, 0, 0, 0, 0, 0, 0, 0, 0, 0, 0, 0, 0, 0, 0, 0, 0, 0, 0, 0, 0, 0, 0, 0, 0, 0, 0, 0, 0, 0, 0, 0, 0, 0, 0, 0, 0, 0, 0, 0, 0, 0, 0, 0, 0, 0, 0, 0, 0, 0, 0, 0, 0, 0, 0, 0, 0, 0, 0, 0, 0, 0, 0, 0, 0, 0, 0, 0, 0, 0, 0, 0, 0, 0, 0, 0, 0, 0, 0, 0, 0, 0, 0, 0, 0, 0, 0, 0, 0, 0, 0, 0, 0, 0, 0, 0, 0, 0, 0, 0, 0, 0, 0, 0, 0, 0, 0, 0, 0, 0, 0, 0, 0, 0, 0, 0, 0, 0, 0, 0, 0, 0, 0, 0, 0, 0, 0, 0, 0, 0, 0, 0, 0, 0, 0, 0, 0, 0, 0, 0, 0, 0, 0, 0, 0, 0, 0, 0, 0, 0, 0, 0, 0, 0, 0, 0, 0, 0, 0, 0, 0, 0, 0, 0, 0, 0, 0, 0, 0, 0, 0, 0, 0, 0, 0, 0, 0, 0, 0, 0, 0, 0, 0]}"
      ]
     },
     "execution_count": 144,
     "metadata": {},
     "output_type": "execute_result"
    }
   ],
   "source": [
    "tokenizer('The worlds at war and everyone is suffering 😭💔', add_special_tokens=True,\n",
    "            truncation=True,\n",
    "            padding='max_length',\n",
    "            max_length=256)"
   ]
  },
  {
   "cell_type": "code",
   "execution_count": 151,
   "metadata": {},
   "outputs": [],
   "source": [
    "def _generate_text_token_len(df: pd.DataFrame) -> pd.DataFrame:\n",
    "    df = df.copy()\n",
    "    df['text_token_len'] = df['text'].progress_apply(\n",
    "        lambda text: len([\n",
    "            i for i in tokenizer(text, add_special_tokens=True,\n",
    "                truncation=True,\n",
    "                padding='max_length',\n",
    "                max_length=256)['input_ids']\n",
    "            if i != 1\n",
    "        ]))\n",
    "    return df"
   ]
  },
  {
   "cell_type": "code",
   "execution_count": 152,
   "metadata": {},
   "outputs": [
    {
     "data": {
      "application/vnd.jupyter.widget-view+json": {
       "model_id": "6fd3b189e36f410da6700085e8f072d6",
       "version_major": 2,
       "version_minor": 0
      },
      "text/plain": [
       "  0%|          | 0/386257 [00:00<?, ?it/s]"
      ]
     },
     "metadata": {},
     "output_type": "display_data"
    }
   ],
   "source": [
    "train_precise_df = _generate_text_token_len(train_precise_df)"
   ]
  },
  {
   "cell_type": "code",
   "execution_count": 153,
   "metadata": {},
   "outputs": [
    {
     "data": {
      "text/plain": [
       "0.9997954729623023"
      ]
     },
     "execution_count": 153,
     "metadata": {},
     "output_type": "execute_result"
    }
   ],
   "source": [
    "len(train_precise_df[train_precise_df['text_token_len'] < 128]) / len(train_precise_df)"
   ]
  },
  {
   "cell_type": "code",
   "execution_count": 154,
   "metadata": {},
   "outputs": [
    {
     "data": {
      "image/png": "[encoded data removed]",
      "text/plain": [
       "<Figure size 432x288 with 1 Axes>"
      ]
     },
     "metadata": {
      "needs_background": "light"
     },
     "output_type": "display_data"
    }
   ],
   "source": [
    "plt.hist(train_precise_df[train_precise_df['text_token_len'] < 128]['text_token_len'], bins=128);"
   ]
  },
  {
   "cell_type": "code",
   "execution_count": 28,
   "metadata": {},
   "outputs": [],
   "source": [
    "def _preview_sample(df: pd.DataFrame, idx: t.Optional[int] = None):\n",
    "    idx = idx if idx is not None else random.randint(0, len(df) - 1)\n",
    "    row = df.iloc[idx]\n",
    "    print(f'Index: {idx}')\n",
    "    print(f'Score: {row[\"average\"]}')\n",
    "    print(f'Text:\\n{row[\"text\"]}')"
   ]
  },
  {
   "cell_type": "code",
   "execution_count": 125,
   "metadata": {},
   "outputs": [
    {
     "name": "stdout",
     "output_type": "stream",
     "text": [
      "Index: 119412\n",
      "Score: 0.3657306083329045\n",
      "Text:\n",
      "The worlds at war and everyone is suffering 😭💔\n"
     ]
    }
   ],
   "source": [
    "_preview_sample(train_precise_df)"
   ]
  },
  {
   "cell_type": "code",
   "execution_count": 126,
   "metadata": {},
   "outputs": [
    {
     "data": {
      "image/png": "[encoded data removed]",
      "text/plain": [
       "<Figure size 432x288 with 1 Axes>"
      ]
     },
     "metadata": {
      "needs_background": "light"
     },
     "output_type": "display_data"
    }
   ],
   "source": [
    "plt.hist(train_precise_df['average']);"
   ]
  },
  {
   "cell_type": "code",
   "execution_count": 8,
   "metadata": {},
   "outputs": [
    {
     "data": {
      "text/html": [
       "<div>\n",
       "<style scoped>\n",
       "    .dataframe tbody tr th:only-of-type {\n",
       "        vertical-align: middle;\n",
       "    }\n",
       "\n",
       "    .dataframe tbody tr th {\n",
       "        vertical-align: top;\n",
       "    }\n",
       "\n",
       "    .dataframe thead th {\n",
       "        text-align: right;\n",
       "    }\n",
       "</style>\n",
       "<table border=\"1\" class=\"dataframe\">\n",
       "  <thead>\n",
       "    <tr style=\"text-align: right;\">\n",
       "      <th></th>\n",
       "      <th>id</th>\n",
       "      <th>text</th>\n",
       "      <th>average</th>\n",
       "      <th>std</th>\n",
       "      <th>score_lower</th>\n",
       "      <th>score_upper</th>\n",
       "    </tr>\n",
       "  </thead>\n",
       "  <tbody>\n",
       "    <tr>\n",
       "      <th>0</th>\n",
       "      <td>1159533701283352576</td>\n",
       "      <td>First time I heard his name in camp, he seems ...</td>\n",
       "      <td>0.195773</td>\n",
       "      <td>0.187379</td>\n",
       "      <td>0.008394</td>\n",
       "      <td>0.383152</td>\n",
       "    </tr>\n",
       "    <tr>\n",
       "      <th>1</th>\n",
       "      <td>1159533703522992128</td>\n",
       "      <td>When I go to drink with Tsubaki he would alway...</td>\n",
       "      <td>0.262401</td>\n",
       "      <td>0.145998</td>\n",
       "      <td>0.116403</td>\n",
       "      <td>0.408399</td>\n",
       "    </tr>\n",
       "    <tr>\n",
       "      <th>2</th>\n",
       "      <td>1159533703758061570</td>\n",
       "      <td>@USER His ass need to stay up 😂😂</td>\n",
       "      <td>0.833391</td>\n",
       "      <td>0.140628</td>\n",
       "      <td>0.692764</td>\n",
       "      <td>0.974019</td>\n",
       "    </tr>\n",
       "    <tr>\n",
       "      <th>3</th>\n",
       "      <td>1159533703904800769</td>\n",
       "      <td>most important tweet of the day : Fuck Donald ...</td>\n",
       "      <td>0.565238</td>\n",
       "      <td>0.187498</td>\n",
       "      <td>0.377740</td>\n",
       "      <td>0.752736</td>\n",
       "    </tr>\n",
       "    <tr>\n",
       "      <th>4</th>\n",
       "      <td>1159533705125343232</td>\n",
       "      <td>You wanna leave? then feel free cus I promise ...</td>\n",
       "      <td>0.664921</td>\n",
       "      <td>0.097098</td>\n",
       "      <td>0.567823</td>\n",
       "      <td>0.762019</td>\n",
       "    </tr>\n",
       "    <tr>\n",
       "      <th>...</th>\n",
       "      <td>...</td>\n",
       "      <td>...</td>\n",
       "      <td>...</td>\n",
       "      <td>...</td>\n",
       "      <td>...</td>\n",
       "      <td>...</td>\n",
       "    </tr>\n",
       "    <tr>\n",
       "      <th>9075413</th>\n",
       "      <td>1187517463640137728</td>\n",
       "      <td>Why everyone should vote for MAMAMOO as The Be...</td>\n",
       "      <td>0.174259</td>\n",
       "      <td>0.205074</td>\n",
       "      <td>-0.030815</td>\n",
       "      <td>0.379333</td>\n",
       "    </tr>\n",
       "    <tr>\n",
       "      <th>9075414</th>\n",
       "      <td>1187636341338710016</td>\n",
       "      <td>@USER Yes but Boris is a puppet for the ERG an...</td>\n",
       "      <td>0.487383</td>\n",
       "      <td>0.067990</td>\n",
       "      <td>0.419393</td>\n",
       "      <td>0.555373</td>\n",
       "    </tr>\n",
       "    <tr>\n",
       "      <th>9075415</th>\n",
       "      <td>1187636341560889344</td>\n",
       "      <td>@USER Did you check or just messaing without s...</td>\n",
       "      <td>0.241537</td>\n",
       "      <td>0.176056</td>\n",
       "      <td>0.065481</td>\n",
       "      <td>0.417593</td>\n",
       "    </tr>\n",
       "    <tr>\n",
       "      <th>9075416</th>\n",
       "      <td>1187636341661679617</td>\n",
       "      <td>I’ll never forget the day I dropped my casava ...</td>\n",
       "      <td>0.251834</td>\n",
       "      <td>0.170168</td>\n",
       "      <td>0.081665</td>\n",
       "      <td>0.422002</td>\n",
       "    </tr>\n",
       "    <tr>\n",
       "      <th>9075417</th>\n",
       "      <td>1187538959624261635</td>\n",
       "      <td>I wasn’t even ready when @USER switched to “I’...</td>\n",
       "      <td>0.172389</td>\n",
       "      <td>0.196509</td>\n",
       "      <td>-0.024119</td>\n",
       "      <td>0.368898</td>\n",
       "    </tr>\n",
       "  </tbody>\n",
       "</table>\n",
       "<p>9075418 rows × 6 columns</p>\n",
       "</div>"
      ],
      "text/plain": [
       "                          id  \\\n",
       "0        1159533701283352576   \n",
       "1        1159533703522992128   \n",
       "2        1159533703758061570   \n",
       "3        1159533703904800769   \n",
       "4        1159533705125343232   \n",
       "...                      ...   \n",
       "9075413  1187517463640137728   \n",
       "9075414  1187636341338710016   \n",
       "9075415  1187636341560889344   \n",
       "9075416  1187636341661679617   \n",
       "9075417  1187538959624261635   \n",
       "\n",
       "                                                      text   average  \\\n",
       "0        First time I heard his name in camp, he seems ...  0.195773   \n",
       "1        When I go to drink with Tsubaki he would alway...  0.262401   \n",
       "2                         @USER His ass need to stay up 😂😂  0.833391   \n",
       "3        most important tweet of the day : Fuck Donald ...  0.565238   \n",
       "4        You wanna leave? then feel free cus I promise ...  0.664921   \n",
       "...                                                    ...       ...   \n",
       "9075413  Why everyone should vote for MAMAMOO as The Be...  0.174259   \n",
       "9075414  @USER Yes but Boris is a puppet for the ERG an...  0.487383   \n",
       "9075415  @USER Did you check or just messaing without s...  0.241537   \n",
       "9075416  I’ll never forget the day I dropped my casava ...  0.251834   \n",
       "9075417  I wasn’t even ready when @USER switched to “I’...  0.172389   \n",
       "\n",
       "              std  score_lower  score_upper  \n",
       "0        0.187379     0.008394     0.383152  \n",
       "1        0.145998     0.116403     0.408399  \n",
       "2        0.140628     0.692764     0.974019  \n",
       "3        0.187498     0.377740     0.752736  \n",
       "4        0.097098     0.567823     0.762019  \n",
       "...           ...          ...          ...  \n",
       "9075413  0.205074    -0.030815     0.379333  \n",
       "9075414  0.067990     0.419393     0.555373  \n",
       "9075415  0.176056     0.065481     0.417593  \n",
       "9075416  0.170168     0.081665     0.422002  \n",
       "9075417  0.196509    -0.024119     0.368898  \n",
       "\n",
       "[9075418 rows x 6 columns]"
      ]
     },
     "execution_count": 8,
     "metadata": {},
     "output_type": "execute_result"
    }
   ],
   "source": [
    "train_full_df"
   ]
  },
  {
   "cell_type": "code",
   "execution_count": 6,
   "metadata": {},
   "outputs": [
    {
     "data": {
      "image/png": "[encoded data removed]",
      "text/plain": [
       "<Figure size 432x288 with 1 Axes>"
      ]
     },
     "metadata": {
      "needs_background": "light"
     },
     "output_type": "display_data"
    }
   ],
   "source": [
    "plt.hist(train_full_df['average']);"
   ]
  },
  {
   "cell_type": "code",
   "execution_count": 9,
   "metadata": {},
   "outputs": [
    {
     "data": {
      "text/html": [
       "<div>\n",
       "<style scoped>\n",
       "    .dataframe tbody tr th:only-of-type {\n",
       "        vertical-align: middle;\n",
       "    }\n",
       "\n",
       "    .dataframe tbody tr th {\n",
       "        vertical-align: top;\n",
       "    }\n",
       "\n",
       "    .dataframe thead th {\n",
       "        text-align: right;\n",
       "    }\n",
       "</style>\n",
       "<table border=\"1\" class=\"dataframe\">\n",
       "  <thead>\n",
       "    <tr style=\"text-align: right;\">\n",
       "      <th></th>\n",
       "      <th>less_toxic</th>\n",
       "      <th>more_toxic</th>\n",
       "      <th>certainty</th>\n",
       "    </tr>\n",
       "  </thead>\n",
       "  <tbody>\n",
       "    <tr>\n",
       "      <th>0</th>\n",
       "      <td>I think people say its not so absurd, because ...</td>\n",
       "      <td>Re Vandalism. . . .  that is because the user ...</td>\n",
       "      <td>0.666667</td>\n",
       "    </tr>\n",
       "    <tr>\n",
       "      <th>1</th>\n",
       "      <td>You must have the lowest IQ of anyone on wikip...</td>\n",
       "      <td>Wha's a reliable source mike? Something that c...</td>\n",
       "      <td>1.000000</td>\n",
       "    </tr>\n",
       "    <tr>\n",
       "      <th>2</th>\n",
       "      <td>Thanks for removing more of his anonymous, un...</td>\n",
       "      <td>To Bad\\nyou dont have the balls to sign in, I ...</td>\n",
       "      <td>1.000000</td>\n",
       "    </tr>\n",
       "    <tr>\n",
       "      <th>3</th>\n",
       "      <td>\"\\n\\nActually, it clearly does not involve pow...</td>\n",
       "      <td>, 18 November 2006 (UTC)\\n\\nWell comrade. Look...</td>\n",
       "      <td>0.666667</td>\n",
       "    </tr>\n",
       "    <tr>\n",
       "      <th>4</th>\n",
       "      <td>You are not cool \\n\\nYou are the most hated f...</td>\n",
       "      <td>\"== Hey Fuck-head==\\nHey, just wanted to say \"...</td>\n",
       "      <td>1.000000</td>\n",
       "    </tr>\n",
       "    <tr>\n",
       "      <th>...</th>\n",
       "      <td>...</td>\n",
       "      <td>...</td>\n",
       "      <td>...</td>\n",
       "    </tr>\n",
       "    <tr>\n",
       "      <th>10103</th>\n",
       "      <td>Heeeeeeeeeeeeeeyyyyyyyyyyyy dude! Sup!</td>\n",
       "      <td>you deleted my page \\nand i am extrememly mad ...</td>\n",
       "      <td>1.000000</td>\n",
       "    </tr>\n",
       "    <tr>\n",
       "      <th>10104</th>\n",
       "      <td>ATTENTION:''''''\\n\\nANYONE WHO OPPOSES MY OPIN...</td>\n",
       "      <td>suck dick u disrespectful swearing wank!!</td>\n",
       "      <td>1.000000</td>\n",
       "    </tr>\n",
       "    <tr>\n",
       "      <th>10105</th>\n",
       "      <td>Oh yah, and Bayerischermann is another guy try...</td>\n",
       "      <td>Thanks. Also thanks for freezing the article. ...</td>\n",
       "      <td>1.000000</td>\n",
       "    </tr>\n",
       "    <tr>\n",
       "      <th>10106</th>\n",
       "      <td>I had to chop out a section specifically compa...</td>\n",
       "      <td>\"\\n\\nHorrifyingly enough, \"\"ritualistic penis ...</td>\n",
       "      <td>0.666667</td>\n",
       "    </tr>\n",
       "    <tr>\n",
       "      <th>10107</th>\n",
       "      <td>Please kill yourself.</td>\n",
       "      <td>That's a load of crap. You are letting trolls ...</td>\n",
       "      <td>0.666667</td>\n",
       "    </tr>\n",
       "  </tbody>\n",
       "</table>\n",
       "<p>10108 rows × 3 columns</p>\n",
       "</div>"
      ],
      "text/plain": [
       "                                              less_toxic  \\\n",
       "0      I think people say its not so absurd, because ...   \n",
       "1      You must have the lowest IQ of anyone on wikip...   \n",
       "2       Thanks for removing more of his anonymous, un...   \n",
       "3      \"\\n\\nActually, it clearly does not involve pow...   \n",
       "4       You are not cool \\n\\nYou are the most hated f...   \n",
       "...                                                  ...   \n",
       "10103          Heeeeeeeeeeeeeeyyyyyyyyyyyy dude! Sup!      \n",
       "10104  ATTENTION:''''''\\n\\nANYONE WHO OPPOSES MY OPIN...   \n",
       "10105  Oh yah, and Bayerischermann is another guy try...   \n",
       "10106  I had to chop out a section specifically compa...   \n",
       "10107                            Please kill yourself.     \n",
       "\n",
       "                                              more_toxic  certainty  \n",
       "0      Re Vandalism. . . .  that is because the user ...   0.666667  \n",
       "1      Wha's a reliable source mike? Something that c...   1.000000  \n",
       "2      To Bad\\nyou dont have the balls to sign in, I ...   1.000000  \n",
       "3      , 18 November 2006 (UTC)\\n\\nWell comrade. Look...   0.666667  \n",
       "4      \"== Hey Fuck-head==\\nHey, just wanted to say \"...   1.000000  \n",
       "...                                                  ...        ...  \n",
       "10103  you deleted my page \\nand i am extrememly mad ...   1.000000  \n",
       "10104          suck dick u disrespectful swearing wank!!   1.000000  \n",
       "10105  Thanks. Also thanks for freezing the article. ...   1.000000  \n",
       "10106  \"\\n\\nHorrifyingly enough, \"\"ritualistic penis ...   0.666667  \n",
       "10107  That's a load of crap. You are letting trolls ...   0.666667  \n",
       "\n",
       "[10108 rows x 3 columns]"
      ]
     },
     "execution_count": 9,
     "metadata": {},
     "output_type": "execute_result"
    }
   ],
   "source": [
    "valid_df"
   ]
  }
 ],
 "metadata": {
  "interpreter": {
   "hash": "d4d1e4263499bec80672ea0156c357c1ee493ec2b1c70f0acce89fc37c4a6abe"
  },
  "kernelspec": {
   "display_name": "Python 3.9.7 64-bit ('base': conda)",
   "language": "python",
   "name": "python3"
  },
  "language_info": {
   "codemirror_mode": {
    "name": "ipython",
    "version": 3
   },
   "file_extension": ".py",
   "mimetype": "text/x-python",
   "name": "python",
   "nbconvert_exporter": "python",
   "pygments_lexer": "ipython3",
   "version": "3.9.7"
  },
  "orig_nbformat": 4
 },
 "nbformat": 4,
 "nbformat_minor": 2
}
