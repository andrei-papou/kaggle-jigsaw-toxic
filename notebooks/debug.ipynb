{
 "cells": [
  {
   "cell_type": "code",
   "execution_count": 2,
   "metadata": {},
   "outputs": [],
   "source": [
    "import typing as t"
   ]
  },
  {
   "cell_type": "code",
   "execution_count": 5,
   "metadata": {},
   "outputs": [],
   "source": [
    "class ValidateEveryNStepsInt:\n",
    "\n",
    "    def __init__(self, init_val: int, thresholded_val_list: t.Optional[t.List[t.Tuple[float, int]]] = None) -> None:\n",
    "        self._thresholded_val_list = thresholded_val_list if thresholded_val_list is not None else []\n",
    "        self._init_val = init_val\n",
    "\n",
    "    def get_for(self, value: float) -> int:\n",
    "        result = self._init_val\n",
    "        for threshold, val in self._thresholded_val_list:\n",
    "            if value >= threshold:\n",
    "                result = val\n",
    "        return result"
   ]
  },
  {
   "cell_type": "code",
   "execution_count": 12,
   "metadata": {},
   "outputs": [],
   "source": [
    "v = ValidateEveryNStepsInt(4096, [\n",
    "    (0.735, 1024),\n",
    "    (0.74, 512),\n",
    "    (0.745, 256),\n",
    "])"
   ]
  },
  {
   "cell_type": "code",
   "execution_count": 18,
   "metadata": {},
   "outputs": [
    {
     "data": {
      "text/plain": [
       "256"
      ]
     },
     "execution_count": 18,
     "metadata": {},
     "output_type": "execute_result"
    }
   ],
   "source": [
    "v.get_for(1.0)"
   ]
  }
 ],
 "metadata": {
  "interpreter": {
   "hash": "d4d1e4263499bec80672ea0156c357c1ee493ec2b1c70f0acce89fc37c4a6abe"
  },
  "kernelspec": {
   "display_name": "Python 3.9.7 64-bit ('base': conda)",
   "language": "python",
   "name": "python3"
  },
  "language_info": {
   "codemirror_mode": {
    "name": "ipython",
    "version": 3
   },
   "file_extension": ".py",
   "mimetype": "text/x-python",
   "name": "python",
   "nbconvert_exporter": "python",
   "pygments_lexer": "ipython3",
   "version": "3.9.7"
  },
  "orig_nbformat": 4
 },
 "nbformat": 4,
 "nbformat_minor": 2
}
