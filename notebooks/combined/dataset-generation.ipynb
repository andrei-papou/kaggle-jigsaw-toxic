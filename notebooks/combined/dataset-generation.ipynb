{
 "cells": [
  {
   "cell_type": "code",
   "execution_count": 30,
   "metadata": {},
   "outputs": [],
   "source": [
    "import random\n",
    "import typing as t\n",
    "from pathlib import Path\n",
    "\n",
    "import matplotlib.pyplot as plt\n",
    "import numpy as np\n",
    "import pandas as pd\n",
    "from tqdm.notebook import tqdm"
   ]
  },
  {
   "cell_type": "code",
   "execution_count": 31,
   "metadata": {},
   "outputs": [],
   "source": [
    "tqdm.pandas()"
   ]
  },
  {
   "cell_type": "code",
   "execution_count": 32,
   "metadata": {},
   "outputs": [],
   "source": [
    "def seed_everything(seed: int):\n",
    "    random.seed(seed)\n",
    "    np.random.seed(seed)\n",
    "\n",
    "seed_everything(42)"
   ]
  },
  {
   "cell_type": "code",
   "execution_count": 33,
   "metadata": {},
   "outputs": [],
   "source": [
    "DATA_DIR = Path('/home/jovyan/jigsaw-toxic/data')\n",
    "DATASETS_DIR = DATA_DIR / 'datasets'\n",
    "JIGSAW_2021_DIR = DATA_DIR / 'jigsaw-toxic-severity-rating'\n",
    "CCC_2017_DIR = DATASETS_DIR / 'ccc-2017-multilabel'\n",
    "UBTC_DIR = DATA_DIR / 'jigsaw-unintended-bias-in-toxicity-classification'\n",
    "RUDDIT_DIR = DATA_DIR / 'ruddit'\n",
    "OFFENSEVAL_DIR = DATASETS_DIR / 'offenseval-2020'\n",
    "MHS_DIR = DATA_DIR / 'datasets/mhs'"
   ]
  },
  {
   "cell_type": "code",
   "execution_count": 34,
   "metadata": {},
   "outputs": [
    {
     "name": "stdout",
     "output_type": "stream",
     "text": [
      "total 33644\n",
      "drwxr-xr-x  2 jovyan users     4096 Jan 25 12:50 .\n",
      "drwxr-xr-x 11 jovyan users     4096 Jan 26 19:03 ..\n",
      "-rw-r--r--  1 jovyan users 14123673 Jan 20 23:27 orig.parquet\n",
      "-rw-r--r--  1 jovyan users  6806801 Jan 24 17:29 train_hss.csv\n",
      "-rw-r--r--  1 jovyan users  4870773 Jan 25 13:29 train_hss_stderr_0p5.csv\n",
      "-rw-r--r--  1 jovyan users  8633656 Jan 24 19:40 valid.csv\n"
     ]
    }
   ],
   "source": [
    "!ls -la $MHS_DIR"
   ]
  },
  {
   "cell_type": "code",
   "execution_count": 35,
   "metadata": {},
   "outputs": [],
   "source": [
    "def df(x: t.Any) -> pd.DataFrame:\n",
    "    return t.cast(pd.DataFrame, x)"
   ]
  },
  {
   "cell_type": "code",
   "execution_count": null,
   "metadata": {},
   "outputs": [],
   "source": [
    "ccc2017_df = df(pd.read_csv(CCC_2017_DIR / 'train_no_leak.csv'))\n",
    "ubtc_df = df(pd.read_csv(UBTC_DIR / 'train.csv'))\n",
    "ruddit_df = df(pd.read_csv(RUDDIT_DIR / 'train_no_quote.csv'))\n",
    "offenseval_df = df(pd.read_csv(OFFENSEVAL_DIR / 'train_precise.csv'))\n",
    "mhs_df = df(pd.read_csv(MHS_DIR / 'train_hss_stderr_0p5.csv'))"
   ]
  },
  {
   "cell_type": "code",
   "execution_count": 36,
   "metadata": {},
   "outputs": [],
   "source": [
    "def generate_ccc2017_pairs(df: pd.DataFrame, n: int) -> t.List[t.Tuple[str, str]]:\n",
    "    pass"
   ]
  }
 ],
 "metadata": {
  "interpreter": {
   "hash": "d4d1e4263499bec80672ea0156c357c1ee493ec2b1c70f0acce89fc37c4a6abe"
  },
  "kernelspec": {
   "display_name": "Python 3.9.7 64-bit ('base': conda)",
   "language": "python",
   "name": "python3"
  },
  "language_info": {
   "codemirror_mode": {
    "name": "ipython",
    "version": 3
   },
   "file_extension": ".py",
   "mimetype": "text/x-python",
   "name": "python",
   "nbconvert_exporter": "python",
   "pygments_lexer": "ipython3",
   "version": "3.9.7"
  },
  "orig_nbformat": 4
 },
 "nbformat": 4,
 "nbformat_minor": 2
}
