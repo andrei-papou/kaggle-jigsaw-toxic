{
 "cells": [
  {
   "cell_type": "code",
   "execution_count": 1,
   "metadata": {},
   "outputs": [],
   "source": [
    "import os\n",
    "import typing as t\n",
    "from pathlib import Path\n",
    "\n",
    "import matplotlib.pyplot as plt\n",
    "import pandas as pd\n",
    "from tqdm.notebook import tqdm"
   ]
  },
  {
   "cell_type": "code",
   "execution_count": 2,
   "metadata": {},
   "outputs": [],
   "source": [
    "tqdm.pandas()"
   ]
  },
  {
   "cell_type": "code",
   "execution_count": 3,
   "metadata": {},
   "outputs": [],
   "source": [
    "DATA_DIR = Path(os.path.expanduser('~/jigsaw-toxic/data'))\n",
    "RUDDIT_SRC_DIR = DATA_DIR / 'ruddit'\n",
    "JIGSAW_TOXIC_SEVERITY_RATING_DIR = DATA_DIR / 'jigsaw-toxic-severity-rating'\n",
    "RUDDIT_DATASET_DIR = DATA_DIR / 'datasets/ruddit'"
   ]
  },
  {
   "cell_type": "code",
   "execution_count": 5,
   "metadata": {},
   "outputs": [
    {
     "name": "stdout",
     "output_type": "stream",
     "text": [
      "total 32520\n",
      "drwxrwxr-x 2 1001 1001     4096 Jan 28 19:41 .\n",
      "drwxrwxr-x 4 1001 1001     4096 Jan 28 19:41 ..\n",
      "-rw-rw-r-- 1 1001 1001     8754 Jan  1 09:15 create_dataset_variants.py\n",
      "-rw-rw-r-- 1 1001 1001      454 Jan  1 09:15 identityterms_group.txt\n",
      "-rw-rw-r-- 1 1001 1001     1354 Jan  1 09:15 load_node_dictionary.py\n",
      "-rw-rw-r-- 1 1001 1001 15674990 Jan  1 09:15 node_dictionary.npy\n",
      "-rw-rw-r-- 1 1001 1001       52 Jan  1 09:15 post_with_issues.csv\n",
      "-rw-rw-r-- 1 1001 1001      265 Jan  1 09:15 ReadMe.md\n",
      "-rw-rw-r-- 1 1001 1001   128343 Jan  1 09:15 Ruddit.csv\n",
      "-rw-rw-r-- 1 1001 1001  4077200 Jan  1 09:15 Ruddit_individual_annotations.csv\n",
      "-rw-rw-r-- 1 1001 1001  1835021 Jan  1 09:15 ruddit_with_text.csv\n",
      "-rw-rw-r-- 1 1001 1001   115216 Jan  1 09:15 sample_input_file.csv\n",
      "-rw-rw-r-- 1 1001 1001 11419592 Jan  1 09:15 Thread_structure.txt\n"
     ]
    }
   ],
   "source": [
    "!ls -la $RUDDIT_SRC_DIR/Dataset"
   ]
  },
  {
   "cell_type": "code",
   "execution_count": 10,
   "metadata": {},
   "outputs": [],
   "source": [
    "individual_annotations_df = pd.read_csv(RUDDIT_SRC_DIR / 'Dataset/Ruddit_individual_annotations.csv')\n",
    "off_score_df = pd.read_csv(RUDDIT_SRC_DIR/ 'Dataset/Ruddit.csv')\n",
    "text_df = pd.read_csv(RUDDIT_SRC_DIR / 'Dataset/ruddit_with_text.csv')"
   ]
  },
  {
   "cell_type": "code",
   "execution_count": 11,
   "metadata": {},
   "outputs": [
    {
     "data": {
      "text/html": [
       "<div>\n",
       "<style scoped>\n",
       "    .dataframe tbody tr th:only-of-type {\n",
       "        vertical-align: middle;\n",
       "    }\n",
       "\n",
       "    .dataframe tbody tr th {\n",
       "        vertical-align: top;\n",
       "    }\n",
       "\n",
       "    .dataframe thead th {\n",
       "        text-align: right;\n",
       "    }\n",
       "</style>\n",
       "<table border=\"1\" class=\"dataframe\">\n",
       "  <thead>\n",
       "    <tr style=\"text-align: right;\">\n",
       "      <th></th>\n",
       "      <th>comment_id</th>\n",
       "      <th>post_id</th>\n",
       "      <th>offensiveness_score</th>\n",
       "    </tr>\n",
       "  </thead>\n",
       "  <tbody>\n",
       "    <tr>\n",
       "      <th>0</th>\n",
       "      <td>cza1q49</td>\n",
       "      <td>42g75o</td>\n",
       "      <td>-0.083</td>\n",
       "    </tr>\n",
       "    <tr>\n",
       "      <th>1</th>\n",
       "      <td>cza1wdh</td>\n",
       "      <td>42g75o</td>\n",
       "      <td>-0.022</td>\n",
       "    </tr>\n",
       "    <tr>\n",
       "      <th>2</th>\n",
       "      <td>cza23qx</td>\n",
       "      <td>42g75o</td>\n",
       "      <td>0.167</td>\n",
       "    </tr>\n",
       "    <tr>\n",
       "      <th>3</th>\n",
       "      <td>cza2bw8</td>\n",
       "      <td>42g75o</td>\n",
       "      <td>-0.146</td>\n",
       "    </tr>\n",
       "    <tr>\n",
       "      <th>4</th>\n",
       "      <td>cza2iji</td>\n",
       "      <td>42g75o</td>\n",
       "      <td>-0.083</td>\n",
       "    </tr>\n",
       "    <tr>\n",
       "      <th>...</th>\n",
       "      <td>...</td>\n",
       "      <td>...</td>\n",
       "      <td>...</td>\n",
       "    </tr>\n",
       "    <tr>\n",
       "      <th>5995</th>\n",
       "      <td>f0i0mqp</td>\n",
       "      <td>cu67co</td>\n",
       "      <td>0.064</td>\n",
       "    </tr>\n",
       "    <tr>\n",
       "      <th>5996</th>\n",
       "      <td>f80wlxq</td>\n",
       "      <td>cganu1</td>\n",
       "      <td>0.458</td>\n",
       "    </tr>\n",
       "    <tr>\n",
       "      <th>5997</th>\n",
       "      <td>f8uksbp</td>\n",
       "      <td>cu67co</td>\n",
       "      <td>-0.292</td>\n",
       "    </tr>\n",
       "    <tr>\n",
       "      <th>5998</th>\n",
       "      <td>fa6nc1r</td>\n",
       "      <td>cganu1</td>\n",
       "      <td>0.333</td>\n",
       "    </tr>\n",
       "    <tr>\n",
       "      <th>5999</th>\n",
       "      <td>fakgh1h</td>\n",
       "      <td>cqqera</td>\n",
       "      <td>-0.625</td>\n",
       "    </tr>\n",
       "  </tbody>\n",
       "</table>\n",
       "<p>6000 rows × 3 columns</p>\n",
       "</div>"
      ],
      "text/plain": [
       "     comment_id post_id  offensiveness_score\n",
       "0       cza1q49  42g75o               -0.083\n",
       "1       cza1wdh  42g75o               -0.022\n",
       "2       cza23qx  42g75o                0.167\n",
       "3       cza2bw8  42g75o               -0.146\n",
       "4       cza2iji  42g75o               -0.083\n",
       "...         ...     ...                  ...\n",
       "5995    f0i0mqp  cu67co                0.064\n",
       "5996    f80wlxq  cganu1                0.458\n",
       "5997    f8uksbp  cu67co               -0.292\n",
       "5998    fa6nc1r  cganu1                0.333\n",
       "5999    fakgh1h  cqqera               -0.625\n",
       "\n",
       "[6000 rows x 3 columns]"
      ]
     },
     "execution_count": 11,
     "metadata": {},
     "output_type": "execute_result"
    }
   ],
   "source": [
    "off_score_df"
   ]
  },
  {
   "cell_type": "code",
   "execution_count": 12,
   "metadata": {},
   "outputs": [
    {
     "data": {
      "text/html": [
       "<div>\n",
       "<style scoped>\n",
       "    .dataframe tbody tr th:only-of-type {\n",
       "        vertical-align: middle;\n",
       "    }\n",
       "\n",
       "    .dataframe tbody tr th {\n",
       "        vertical-align: top;\n",
       "    }\n",
       "\n",
       "    .dataframe thead th {\n",
       "        text-align: right;\n",
       "    }\n",
       "</style>\n",
       "<table border=\"1\" class=\"dataframe\">\n",
       "  <thead>\n",
       "    <tr style=\"text-align: right;\">\n",
       "      <th></th>\n",
       "      <th>post_id</th>\n",
       "      <th>comment_id</th>\n",
       "      <th>txt</th>\n",
       "      <th>url</th>\n",
       "      <th>offensiveness_score</th>\n",
       "    </tr>\n",
       "  </thead>\n",
       "  <tbody>\n",
       "    <tr>\n",
       "      <th>0</th>\n",
       "      <td>42g75o</td>\n",
       "      <td>cza1q49</td>\n",
       "      <td>&gt; The difference in average earnings between m...</td>\n",
       "      <td>https://www.reddit.com/r/changemyview/comments...</td>\n",
       "      <td>-0.083</td>\n",
       "    </tr>\n",
       "    <tr>\n",
       "      <th>1</th>\n",
       "      <td>42g75o</td>\n",
       "      <td>cza1wdh</td>\n",
       "      <td>The myth is that the \"gap\" is entirely based o...</td>\n",
       "      <td>https://www.reddit.com/r/changemyview/comments...</td>\n",
       "      <td>-0.022</td>\n",
       "    </tr>\n",
       "    <tr>\n",
       "      <th>2</th>\n",
       "      <td>42g75o</td>\n",
       "      <td>cza23qx</td>\n",
       "      <td>[deleted]</td>\n",
       "      <td>https://www.reddit.com/r/changemyview/comments...</td>\n",
       "      <td>0.167</td>\n",
       "    </tr>\n",
       "    <tr>\n",
       "      <th>3</th>\n",
       "      <td>42g75o</td>\n",
       "      <td>cza2bw8</td>\n",
       "      <td>The assertion is that women get paid less for ...</td>\n",
       "      <td>https://www.reddit.com/r/changemyview/comments...</td>\n",
       "      <td>-0.146</td>\n",
       "    </tr>\n",
       "    <tr>\n",
       "      <th>4</th>\n",
       "      <td>42g75o</td>\n",
       "      <td>cza2iji</td>\n",
       "      <td>You said in the OP that's not what they're mea...</td>\n",
       "      <td>https://www.reddit.com/r/changemyview/comments...</td>\n",
       "      <td>-0.083</td>\n",
       "    </tr>\n",
       "    <tr>\n",
       "      <th>...</th>\n",
       "      <td>...</td>\n",
       "      <td>...</td>\n",
       "      <td>...</td>\n",
       "      <td>...</td>\n",
       "      <td>...</td>\n",
       "    </tr>\n",
       "    <tr>\n",
       "      <th>5833</th>\n",
       "      <td>cu67co</td>\n",
       "      <td>f0i0mqp</td>\n",
       "      <td>They should only censor things that talk badly...</td>\n",
       "      <td>https://i.redd.it/kfsmqzxae3i31.jpg/f0i0mqp/</td>\n",
       "      <td>0.064</td>\n",
       "    </tr>\n",
       "    <tr>\n",
       "      <th>5834</th>\n",
       "      <td>cganu1</td>\n",
       "      <td>f80wlxq</td>\n",
       "      <td>&gt; and one of them is a woman. \\n\\nOH SHIT we b...</td>\n",
       "      <td>https://www.reddit.com/r/worldpolitics/comment...</td>\n",
       "      <td>0.458</td>\n",
       "    </tr>\n",
       "    <tr>\n",
       "      <th>5835</th>\n",
       "      <td>cu67co</td>\n",
       "      <td>f8uksbp</td>\n",
       "      <td>how is this flared as US politics</td>\n",
       "      <td>https://i.redd.it/kfsmqzxae3i31.jpg/f8uksbp/</td>\n",
       "      <td>-0.292</td>\n",
       "    </tr>\n",
       "    <tr>\n",
       "      <th>5836</th>\n",
       "      <td>cganu1</td>\n",
       "      <td>fa6nc1r</td>\n",
       "      <td>People in Hong Kong must decide if they are go...</td>\n",
       "      <td>https://www.reddit.com/r/worldpolitics/comment...</td>\n",
       "      <td>0.333</td>\n",
       "    </tr>\n",
       "    <tr>\n",
       "      <th>5837</th>\n",
       "      <td>cqqera</td>\n",
       "      <td>fakgh1h</td>\n",
       "      <td>I know this is an old post but I saw him last ...</td>\n",
       "      <td>https://i.redd.it/xt63a5xefmg31.jpg/fakgh1h/</td>\n",
       "      <td>-0.625</td>\n",
       "    </tr>\n",
       "  </tbody>\n",
       "</table>\n",
       "<p>5838 rows × 5 columns</p>\n",
       "</div>"
      ],
      "text/plain": [
       "     post_id comment_id                                                txt  \\\n",
       "0     42g75o    cza1q49  > The difference in average earnings between m...   \n",
       "1     42g75o    cza1wdh  The myth is that the \"gap\" is entirely based o...   \n",
       "2     42g75o    cza23qx                                          [deleted]   \n",
       "3     42g75o    cza2bw8  The assertion is that women get paid less for ...   \n",
       "4     42g75o    cza2iji  You said in the OP that's not what they're mea...   \n",
       "...      ...        ...                                                ...   \n",
       "5833  cu67co    f0i0mqp  They should only censor things that talk badly...   \n",
       "5834  cganu1    f80wlxq  > and one of them is a woman. \\n\\nOH SHIT we b...   \n",
       "5835  cu67co    f8uksbp                  how is this flared as US politics   \n",
       "5836  cganu1    fa6nc1r  People in Hong Kong must decide if they are go...   \n",
       "5837  cqqera    fakgh1h  I know this is an old post but I saw him last ...   \n",
       "\n",
       "                                                    url  offensiveness_score  \n",
       "0     https://www.reddit.com/r/changemyview/comments...               -0.083  \n",
       "1     https://www.reddit.com/r/changemyview/comments...               -0.022  \n",
       "2     https://www.reddit.com/r/changemyview/comments...                0.167  \n",
       "3     https://www.reddit.com/r/changemyview/comments...               -0.146  \n",
       "4     https://www.reddit.com/r/changemyview/comments...               -0.083  \n",
       "...                                                 ...                  ...  \n",
       "5833       https://i.redd.it/kfsmqzxae3i31.jpg/f0i0mqp/                0.064  \n",
       "5834  https://www.reddit.com/r/worldpolitics/comment...                0.458  \n",
       "5835       https://i.redd.it/kfsmqzxae3i31.jpg/f8uksbp/               -0.292  \n",
       "5836  https://www.reddit.com/r/worldpolitics/comment...                0.333  \n",
       "5837       https://i.redd.it/xt63a5xefmg31.jpg/fakgh1h/               -0.625  \n",
       "\n",
       "[5838 rows x 5 columns]"
      ]
     },
     "execution_count": 12,
     "metadata": {},
     "output_type": "execute_result"
    }
   ],
   "source": [
    "text_df"
   ]
  },
  {
   "cell_type": "code",
   "execution_count": 14,
   "metadata": {},
   "outputs": [
    {
     "data": {
      "text/plain": [
       "5838"
      ]
     },
     "execution_count": 14,
     "metadata": {},
     "output_type": "execute_result"
    }
   ],
   "source": [
    "len(text_df['comment_id'].unique())"
   ]
  },
  {
   "cell_type": "code",
   "execution_count": 19,
   "metadata": {},
   "outputs": [
    {
     "name": "stdout",
     "output_type": "stream",
     "text": [
      "116\n"
     ]
    }
   ],
   "source": [
    "print(len(text_df[text_df['txt'] == '[deleted]']))"
   ]
  },
  {
   "cell_type": "code",
   "execution_count": 26,
   "metadata": {},
   "outputs": [],
   "source": [
    "ruddit_score_df = text_df.copy()\n",
    "ruddit_score_df = ruddit_score_df[ruddit_score_df['txt'] != '[deleted]']\n",
    "score_sr = ruddit_score_df['offensiveness_score']\n",
    "ruddit_score_df['score'] = (score_sr - score_sr.min()) / (score_sr.max() - score_sr.min())\n",
    "ruddit_score_df = ruddit_score_df.rename({'txt': 'comment_text'}, axis=1)[['comment_text', 'score']]"
   ]
  },
  {
   "cell_type": "code",
   "execution_count": 27,
   "metadata": {},
   "outputs": [
    {
     "data": {
      "text/html": [
       "<div>\n",
       "<style scoped>\n",
       "    .dataframe tbody tr th:only-of-type {\n",
       "        vertical-align: middle;\n",
       "    }\n",
       "\n",
       "    .dataframe tbody tr th {\n",
       "        vertical-align: top;\n",
       "    }\n",
       "\n",
       "    .dataframe thead th {\n",
       "        text-align: right;\n",
       "    }\n",
       "</style>\n",
       "<table border=\"1\" class=\"dataframe\">\n",
       "  <thead>\n",
       "    <tr style=\"text-align: right;\">\n",
       "      <th></th>\n",
       "      <th>comment_text</th>\n",
       "      <th>score</th>\n",
       "    </tr>\n",
       "  </thead>\n",
       "  <tbody>\n",
       "    <tr>\n",
       "      <th>0</th>\n",
       "      <td>&gt; The difference in average earnings between m...</td>\n",
       "      <td>0.431478</td>\n",
       "    </tr>\n",
       "    <tr>\n",
       "      <th>1</th>\n",
       "      <td>The myth is that the \"gap\" is entirely based o...</td>\n",
       "      <td>0.464133</td>\n",
       "    </tr>\n",
       "    <tr>\n",
       "      <th>3</th>\n",
       "      <td>The assertion is that women get paid less for ...</td>\n",
       "      <td>0.397752</td>\n",
       "    </tr>\n",
       "    <tr>\n",
       "      <th>4</th>\n",
       "      <td>You said in the OP that's not what they're mea...</td>\n",
       "      <td>0.431478</td>\n",
       "    </tr>\n",
       "    <tr>\n",
       "      <th>5</th>\n",
       "      <td>&gt;Men and women are not payed less for the same...</td>\n",
       "      <td>0.453426</td>\n",
       "    </tr>\n",
       "    <tr>\n",
       "      <th>...</th>\n",
       "      <td>...</td>\n",
       "      <td>...</td>\n",
       "    </tr>\n",
       "    <tr>\n",
       "      <th>5833</th>\n",
       "      <td>They should only censor things that talk badly...</td>\n",
       "      <td>0.510171</td>\n",
       "    </tr>\n",
       "    <tr>\n",
       "      <th>5834</th>\n",
       "      <td>&gt; and one of them is a woman. \\n\\nOH SHIT we b...</td>\n",
       "      <td>0.721092</td>\n",
       "    </tr>\n",
       "    <tr>\n",
       "      <th>5835</th>\n",
       "      <td>how is this flared as US politics</td>\n",
       "      <td>0.319593</td>\n",
       "    </tr>\n",
       "    <tr>\n",
       "      <th>5836</th>\n",
       "      <td>People in Hong Kong must decide if they are go...</td>\n",
       "      <td>0.654176</td>\n",
       "    </tr>\n",
       "    <tr>\n",
       "      <th>5837</th>\n",
       "      <td>I know this is an old post but I saw him last ...</td>\n",
       "      <td>0.141328</td>\n",
       "    </tr>\n",
       "  </tbody>\n",
       "</table>\n",
       "<p>5722 rows × 2 columns</p>\n",
       "</div>"
      ],
      "text/plain": [
       "                                           comment_text     score\n",
       "0     > The difference in average earnings between m...  0.431478\n",
       "1     The myth is that the \"gap\" is entirely based o...  0.464133\n",
       "3     The assertion is that women get paid less for ...  0.397752\n",
       "4     You said in the OP that's not what they're mea...  0.431478\n",
       "5     >Men and women are not payed less for the same...  0.453426\n",
       "...                                                 ...       ...\n",
       "5833  They should only censor things that talk badly...  0.510171\n",
       "5834  > and one of them is a woman. \\n\\nOH SHIT we b...  0.721092\n",
       "5835                  how is this flared as US politics  0.319593\n",
       "5836  People in Hong Kong must decide if they are go...  0.654176\n",
       "5837  I know this is an old post but I saw him last ...  0.141328\n",
       "\n",
       "[5722 rows x 2 columns]"
      ]
     },
     "execution_count": 27,
     "metadata": {},
     "output_type": "execute_result"
    }
   ],
   "source": [
    "ruddit_score_df"
   ]
  },
  {
   "cell_type": "code",
   "execution_count": 29,
   "metadata": {},
   "outputs": [],
   "source": [
    "ruddit_score_df.to_csv(RUDDIT_DATASET_DIR / 'train.csv', index=False)"
   ]
  },
  {
   "cell_type": "code",
   "execution_count": 31,
   "metadata": {},
   "outputs": [],
   "source": [
    "def _remove_quote(text: str) -> str:\n",
    "    if not text.startswith('>'):\n",
    "        return text\n",
    "    return '\\n'.join(text.split('\\n')[1:])\n",
    "\n",
    "no_quote_ruddit_score_df = ruddit_score_df.copy()\n",
    "no_quote_ruddit_score_df['comment_text'] = no_quote_ruddit_score_df['comment_text'].apply(_remove_quote)"
   ]
  },
  {
   "cell_type": "code",
   "execution_count": 32,
   "metadata": {},
   "outputs": [],
   "source": [
    "no_quote_ruddit_score_df.to_csv(RUDDIT_DATASET_DIR / 'train_no_quote.csv', index=False)"
   ]
  }
 ],
 "metadata": {
  "interpreter": {
   "hash": "d4d1e4263499bec80672ea0156c357c1ee493ec2b1c70f0acce89fc37c4a6abe"
  },
  "kernelspec": {
   "display_name": "Python 3.9.7 64-bit ('base': conda)",
   "language": "python",
   "name": "python3"
  },
  "language_info": {
   "codemirror_mode": {
    "name": "ipython",
    "version": 3
   },
   "file_extension": ".py",
   "mimetype": "text/x-python",
   "name": "python",
   "nbconvert_exporter": "python",
   "pygments_lexer": "ipython3",
   "version": "3.9.7"
  },
  "orig_nbformat": 4
 },
 "nbformat": 4,
 "nbformat_minor": 2
}
