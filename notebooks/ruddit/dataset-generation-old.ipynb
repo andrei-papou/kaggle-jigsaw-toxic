{
 "cells": [
  {
   "cell_type": "code",
   "execution_count": 1,
   "metadata": {},
   "outputs": [],
   "source": [
    "import os\n",
    "import typing as t\n",
    "from pathlib import Path\n",
    "\n",
    "import matplotlib.pyplot as plt\n",
    "import pandas as pd\n",
    "from tqdm.notebook import tqdm"
   ]
  },
  {
   "cell_type": "code",
   "execution_count": 2,
   "metadata": {},
   "outputs": [],
   "source": [
    "tqdm.pandas()"
   ]
  },
  {
   "cell_type": "code",
   "execution_count": 3,
   "metadata": {},
   "outputs": [],
   "source": [
    "DATA_DIR = Path(os.path.expanduser('~/jigsaw-toxic/data'))\n",
    "RUDDIT_SRC_DIR = DATA_DIR / 'ruddit'\n",
    "JIGSAW_TOXIC_SEVERITY_RATING_DIR = DATA_DIR / 'jigsaw-toxic-severity-rating'\n",
    "RUDDIT_DATASET_DIR = DATA_DIR / 'datasets/ruddit'"
   ]
  },
  {
   "cell_type": "code",
   "execution_count": 4,
   "metadata": {},
   "outputs": [],
   "source": [
    "!mkdir -p $RUDDIT_DATASET_DIR"
   ]
  },
  {
   "cell_type": "code",
   "execution_count": 5,
   "metadata": {},
   "outputs": [],
   "source": [
    "!cp $JIGSAW_TOXIC_SEVERITY_RATING_DIR/valid.csv $RUDDIT_DATASET_DIR/valid.csv"
   ]
  },
  {
   "cell_type": "code",
   "execution_count": 6,
   "metadata": {},
   "outputs": [],
   "source": [
    "valid_df = pd.read_csv(str(RUDDIT_DATASET_DIR / 'valid.csv'))"
   ]
  },
  {
   "cell_type": "code",
   "execution_count": 7,
   "metadata": {},
   "outputs": [
    {
     "data": {
      "text/html": [
       "<div>\n",
       "<style scoped>\n",
       "    .dataframe tbody tr th:only-of-type {\n",
       "        vertical-align: middle;\n",
       "    }\n",
       "\n",
       "    .dataframe tbody tr th {\n",
       "        vertical-align: top;\n",
       "    }\n",
       "\n",
       "    .dataframe thead th {\n",
       "        text-align: right;\n",
       "    }\n",
       "</style>\n",
       "<table border=\"1\" class=\"dataframe\">\n",
       "  <thead>\n",
       "    <tr style=\"text-align: right;\">\n",
       "      <th></th>\n",
       "      <th>less_toxic</th>\n",
       "      <th>more_toxic</th>\n",
       "      <th>certainty</th>\n",
       "    </tr>\n",
       "  </thead>\n",
       "  <tbody>\n",
       "    <tr>\n",
       "      <th>0</th>\n",
       "      <td>I think people say its not so absurd, because ...</td>\n",
       "      <td>Re Vandalism. . . .  that is because the user ...</td>\n",
       "      <td>0.666667</td>\n",
       "    </tr>\n",
       "    <tr>\n",
       "      <th>1</th>\n",
       "      <td>You must have the lowest IQ of anyone on wikip...</td>\n",
       "      <td>Wha's a reliable source mike? Something that c...</td>\n",
       "      <td>1.000000</td>\n",
       "    </tr>\n",
       "    <tr>\n",
       "      <th>2</th>\n",
       "      <td>Thanks for removing more of his anonymous, un...</td>\n",
       "      <td>To Bad\\nyou dont have the balls to sign in, I ...</td>\n",
       "      <td>1.000000</td>\n",
       "    </tr>\n",
       "    <tr>\n",
       "      <th>3</th>\n",
       "      <td>\"\\n\\nActually, it clearly does not involve pow...</td>\n",
       "      <td>, 18 November 2006 (UTC)\\n\\nWell comrade. Look...</td>\n",
       "      <td>0.666667</td>\n",
       "    </tr>\n",
       "    <tr>\n",
       "      <th>4</th>\n",
       "      <td>You are not cool \\n\\nYou are the most hated f...</td>\n",
       "      <td>\"== Hey Fuck-head==\\nHey, just wanted to say \"...</td>\n",
       "      <td>1.000000</td>\n",
       "    </tr>\n",
       "    <tr>\n",
       "      <th>...</th>\n",
       "      <td>...</td>\n",
       "      <td>...</td>\n",
       "      <td>...</td>\n",
       "    </tr>\n",
       "    <tr>\n",
       "      <th>10103</th>\n",
       "      <td>Heeeeeeeeeeeeeeyyyyyyyyyyyy dude! Sup!</td>\n",
       "      <td>you deleted my page \\nand i am extrememly mad ...</td>\n",
       "      <td>1.000000</td>\n",
       "    </tr>\n",
       "    <tr>\n",
       "      <th>10104</th>\n",
       "      <td>ATTENTION:''''''\\n\\nANYONE WHO OPPOSES MY OPIN...</td>\n",
       "      <td>suck dick u disrespectful swearing wank!!</td>\n",
       "      <td>1.000000</td>\n",
       "    </tr>\n",
       "    <tr>\n",
       "      <th>10105</th>\n",
       "      <td>Oh yah, and Bayerischermann is another guy try...</td>\n",
       "      <td>Thanks. Also thanks for freezing the article. ...</td>\n",
       "      <td>1.000000</td>\n",
       "    </tr>\n",
       "    <tr>\n",
       "      <th>10106</th>\n",
       "      <td>I had to chop out a section specifically compa...</td>\n",
       "      <td>\"\\n\\nHorrifyingly enough, \"\"ritualistic penis ...</td>\n",
       "      <td>0.666667</td>\n",
       "    </tr>\n",
       "    <tr>\n",
       "      <th>10107</th>\n",
       "      <td>Please kill yourself.</td>\n",
       "      <td>That's a load of crap. You are letting trolls ...</td>\n",
       "      <td>0.666667</td>\n",
       "    </tr>\n",
       "  </tbody>\n",
       "</table>\n",
       "<p>10108 rows × 3 columns</p>\n",
       "</div>"
      ],
      "text/plain": [
       "                                              less_toxic  \\\n",
       "0      I think people say its not so absurd, because ...   \n",
       "1      You must have the lowest IQ of anyone on wikip...   \n",
       "2       Thanks for removing more of his anonymous, un...   \n",
       "3      \"\\n\\nActually, it clearly does not involve pow...   \n",
       "4       You are not cool \\n\\nYou are the most hated f...   \n",
       "...                                                  ...   \n",
       "10103          Heeeeeeeeeeeeeeyyyyyyyyyyyy dude! Sup!      \n",
       "10104  ATTENTION:''''''\\n\\nANYONE WHO OPPOSES MY OPIN...   \n",
       "10105  Oh yah, and Bayerischermann is another guy try...   \n",
       "10106  I had to chop out a section specifically compa...   \n",
       "10107                            Please kill yourself.     \n",
       "\n",
       "                                              more_toxic  certainty  \n",
       "0      Re Vandalism. . . .  that is because the user ...   0.666667  \n",
       "1      Wha's a reliable source mike? Something that c...   1.000000  \n",
       "2      To Bad\\nyou dont have the balls to sign in, I ...   1.000000  \n",
       "3      , 18 November 2006 (UTC)\\n\\nWell comrade. Look...   0.666667  \n",
       "4      \"== Hey Fuck-head==\\nHey, just wanted to say \"...   1.000000  \n",
       "...                                                  ...        ...  \n",
       "10103  you deleted my page \\nand i am extrememly mad ...   1.000000  \n",
       "10104          suck dick u disrespectful swearing wank!!   1.000000  \n",
       "10105  Thanks. Also thanks for freezing the article. ...   1.000000  \n",
       "10106  \"\\n\\nHorrifyingly enough, \"\"ritualistic penis ...   0.666667  \n",
       "10107  That's a load of crap. You are letting trolls ...   0.666667  \n",
       "\n",
       "[10108 rows x 3 columns]"
      ]
     },
     "execution_count": 7,
     "metadata": {},
     "output_type": "execute_result"
    }
   ],
   "source": [
    "valid_df"
   ]
  },
  {
   "cell_type": "code",
   "execution_count": 4,
   "metadata": {},
   "outputs": [],
   "source": [
    "ruddit_df = pd.read_csv(RUDDIT_SRC_DIR / 'ruddit_with_text.csv')"
   ]
  },
  {
   "cell_type": "code",
   "execution_count": 5,
   "metadata": {},
   "outputs": [
    {
     "data": {
      "text/html": [
       "<div>\n",
       "<style scoped>\n",
       "    .dataframe tbody tr th:only-of-type {\n",
       "        vertical-align: middle;\n",
       "    }\n",
       "\n",
       "    .dataframe tbody tr th {\n",
       "        vertical-align: top;\n",
       "    }\n",
       "\n",
       "    .dataframe thead th {\n",
       "        text-align: right;\n",
       "    }\n",
       "</style>\n",
       "<table border=\"1\" class=\"dataframe\">\n",
       "  <thead>\n",
       "    <tr style=\"text-align: right;\">\n",
       "      <th></th>\n",
       "      <th>post_id</th>\n",
       "      <th>comment_id</th>\n",
       "      <th>txt</th>\n",
       "      <th>url</th>\n",
       "      <th>offensiveness_score</th>\n",
       "    </tr>\n",
       "  </thead>\n",
       "  <tbody>\n",
       "    <tr>\n",
       "      <th>0</th>\n",
       "      <td>42g75o</td>\n",
       "      <td>cza1q49</td>\n",
       "      <td>&gt; The difference in average earnings between m...</td>\n",
       "      <td>https://www.reddit.com/r/changemyview/comments...</td>\n",
       "      <td>-0.083</td>\n",
       "    </tr>\n",
       "    <tr>\n",
       "      <th>1</th>\n",
       "      <td>42g75o</td>\n",
       "      <td>cza1wdh</td>\n",
       "      <td>The myth is that the \"gap\" is entirely based o...</td>\n",
       "      <td>https://www.reddit.com/r/changemyview/comments...</td>\n",
       "      <td>-0.022</td>\n",
       "    </tr>\n",
       "    <tr>\n",
       "      <th>2</th>\n",
       "      <td>42g75o</td>\n",
       "      <td>cza23qx</td>\n",
       "      <td>[deleted]</td>\n",
       "      <td>https://www.reddit.com/r/changemyview/comments...</td>\n",
       "      <td>0.167</td>\n",
       "    </tr>\n",
       "    <tr>\n",
       "      <th>3</th>\n",
       "      <td>42g75o</td>\n",
       "      <td>cza2bw8</td>\n",
       "      <td>The assertion is that women get paid less for ...</td>\n",
       "      <td>https://www.reddit.com/r/changemyview/comments...</td>\n",
       "      <td>-0.146</td>\n",
       "    </tr>\n",
       "    <tr>\n",
       "      <th>4</th>\n",
       "      <td>42g75o</td>\n",
       "      <td>cza2iji</td>\n",
       "      <td>You said in the OP that's not what they're mea...</td>\n",
       "      <td>https://www.reddit.com/r/changemyview/comments...</td>\n",
       "      <td>-0.083</td>\n",
       "    </tr>\n",
       "    <tr>\n",
       "      <th>...</th>\n",
       "      <td>...</td>\n",
       "      <td>...</td>\n",
       "      <td>...</td>\n",
       "      <td>...</td>\n",
       "      <td>...</td>\n",
       "    </tr>\n",
       "    <tr>\n",
       "      <th>466</th>\n",
       "      <td>826qe4</td>\n",
       "      <td>dv8uend</td>\n",
       "      <td>if a healthy kid gets autism after getting vac...</td>\n",
       "      <td>https://www.reddit.com/r/changemyview/comments...</td>\n",
       "      <td>0.045</td>\n",
       "    </tr>\n",
       "    <tr>\n",
       "      <th>467</th>\n",
       "      <td>826qe4</td>\n",
       "      <td>dv8vp6f</td>\n",
       "      <td>Prosecuting parents who refuse to vaccinate so...</td>\n",
       "      <td>https://www.reddit.com/r/changemyview/comments...</td>\n",
       "      <td>0.104</td>\n",
       "    </tr>\n",
       "    <tr>\n",
       "      <th>468</th>\n",
       "      <td>826qe4</td>\n",
       "      <td>dv8xz94</td>\n",
       "      <td>Probably not. This is why I refused hep B and ...</td>\n",
       "      <td>https://www.reddit.com/r/changemyview/comments...</td>\n",
       "      <td>0.000</td>\n",
       "    </tr>\n",
       "    <tr>\n",
       "      <th>469</th>\n",
       "      <td>7k945q</td>\n",
       "      <td>dvf4bbr</td>\n",
       "      <td>I love how this thread instantly went into gun...</td>\n",
       "      <td>https://www.reddit.com/r/changemyview/comments...</td>\n",
       "      <td>-0.354</td>\n",
       "    </tr>\n",
       "    <tr>\n",
       "      <th>470</th>\n",
       "      <td>7ej2uh</td>\n",
       "      <td>dxl7flf</td>\n",
       "      <td>the public should absolutely contribute money ...</td>\n",
       "      <td>https://www.reddit.com/r/changemyview/comments...</td>\n",
       "      <td>-0.062</td>\n",
       "    </tr>\n",
       "  </tbody>\n",
       "</table>\n",
       "<p>471 rows × 5 columns</p>\n",
       "</div>"
      ],
      "text/plain": [
       "    post_id comment_id                                                txt  \\\n",
       "0    42g75o    cza1q49  > The difference in average earnings between m...   \n",
       "1    42g75o    cza1wdh  The myth is that the \"gap\" is entirely based o...   \n",
       "2    42g75o    cza23qx                                          [deleted]   \n",
       "3    42g75o    cza2bw8  The assertion is that women get paid less for ...   \n",
       "4    42g75o    cza2iji  You said in the OP that's not what they're mea...   \n",
       "..      ...        ...                                                ...   \n",
       "466  826qe4    dv8uend  if a healthy kid gets autism after getting vac...   \n",
       "467  826qe4    dv8vp6f  Prosecuting parents who refuse to vaccinate so...   \n",
       "468  826qe4    dv8xz94  Probably not. This is why I refused hep B and ...   \n",
       "469  7k945q    dvf4bbr  I love how this thread instantly went into gun...   \n",
       "470  7ej2uh    dxl7flf  the public should absolutely contribute money ...   \n",
       "\n",
       "                                                   url  offensiveness_score  \n",
       "0    https://www.reddit.com/r/changemyview/comments...               -0.083  \n",
       "1    https://www.reddit.com/r/changemyview/comments...               -0.022  \n",
       "2    https://www.reddit.com/r/changemyview/comments...                0.167  \n",
       "3    https://www.reddit.com/r/changemyview/comments...               -0.146  \n",
       "4    https://www.reddit.com/r/changemyview/comments...               -0.083  \n",
       "..                                                 ...                  ...  \n",
       "466  https://www.reddit.com/r/changemyview/comments...                0.045  \n",
       "467  https://www.reddit.com/r/changemyview/comments...                0.104  \n",
       "468  https://www.reddit.com/r/changemyview/comments...                0.000  \n",
       "469  https://www.reddit.com/r/changemyview/comments...               -0.354  \n",
       "470  https://www.reddit.com/r/changemyview/comments...               -0.062  \n",
       "\n",
       "[471 rows x 5 columns]"
      ]
     },
     "execution_count": 5,
     "metadata": {},
     "output_type": "execute_result"
    }
   ],
   "source": [
    "ruddit_df"
   ]
  },
  {
   "cell_type": "code",
   "execution_count": 6,
   "metadata": {},
   "outputs": [],
   "source": [
    "ruddit_df = ruddit_df[ruddit_df['txt'] != '[deleted]'].copy().reset_index(drop=True)"
   ]
  },
  {
   "cell_type": "code",
   "execution_count": 7,
   "metadata": {},
   "outputs": [
    {
     "data": {
      "text/html": [
       "<div>\n",
       "<style scoped>\n",
       "    .dataframe tbody tr th:only-of-type {\n",
       "        vertical-align: middle;\n",
       "    }\n",
       "\n",
       "    .dataframe tbody tr th {\n",
       "        vertical-align: top;\n",
       "    }\n",
       "\n",
       "    .dataframe thead th {\n",
       "        text-align: right;\n",
       "    }\n",
       "</style>\n",
       "<table border=\"1\" class=\"dataframe\">\n",
       "  <thead>\n",
       "    <tr style=\"text-align: right;\">\n",
       "      <th></th>\n",
       "      <th>post_id</th>\n",
       "      <th>comment_id</th>\n",
       "      <th>txt</th>\n",
       "      <th>url</th>\n",
       "      <th>offensiveness_score</th>\n",
       "    </tr>\n",
       "  </thead>\n",
       "  <tbody>\n",
       "    <tr>\n",
       "      <th>0</th>\n",
       "      <td>42g75o</td>\n",
       "      <td>cza1q49</td>\n",
       "      <td>&gt; The difference in average earnings between m...</td>\n",
       "      <td>https://www.reddit.com/r/changemyview/comments...</td>\n",
       "      <td>-0.083</td>\n",
       "    </tr>\n",
       "    <tr>\n",
       "      <th>1</th>\n",
       "      <td>42g75o</td>\n",
       "      <td>cza1wdh</td>\n",
       "      <td>The myth is that the \"gap\" is entirely based o...</td>\n",
       "      <td>https://www.reddit.com/r/changemyview/comments...</td>\n",
       "      <td>-0.022</td>\n",
       "    </tr>\n",
       "    <tr>\n",
       "      <th>2</th>\n",
       "      <td>42g75o</td>\n",
       "      <td>cza2bw8</td>\n",
       "      <td>The assertion is that women get paid less for ...</td>\n",
       "      <td>https://www.reddit.com/r/changemyview/comments...</td>\n",
       "      <td>-0.146</td>\n",
       "    </tr>\n",
       "    <tr>\n",
       "      <th>3</th>\n",
       "      <td>42g75o</td>\n",
       "      <td>cza2iji</td>\n",
       "      <td>You said in the OP that's not what they're mea...</td>\n",
       "      <td>https://www.reddit.com/r/changemyview/comments...</td>\n",
       "      <td>-0.083</td>\n",
       "    </tr>\n",
       "    <tr>\n",
       "      <th>4</th>\n",
       "      <td>42g75o</td>\n",
       "      <td>cza2jj3</td>\n",
       "      <td>&gt;Men and women are not payed less for the same...</td>\n",
       "      <td>https://www.reddit.com/r/changemyview/comments...</td>\n",
       "      <td>-0.042</td>\n",
       "    </tr>\n",
       "    <tr>\n",
       "      <th>...</th>\n",
       "      <td>...</td>\n",
       "      <td>...</td>\n",
       "      <td>...</td>\n",
       "      <td>...</td>\n",
       "      <td>...</td>\n",
       "    </tr>\n",
       "    <tr>\n",
       "      <th>448</th>\n",
       "      <td>826qe4</td>\n",
       "      <td>dv8uend</td>\n",
       "      <td>if a healthy kid gets autism after getting vac...</td>\n",
       "      <td>https://www.reddit.com/r/changemyview/comments...</td>\n",
       "      <td>0.045</td>\n",
       "    </tr>\n",
       "    <tr>\n",
       "      <th>449</th>\n",
       "      <td>826qe4</td>\n",
       "      <td>dv8vp6f</td>\n",
       "      <td>Prosecuting parents who refuse to vaccinate so...</td>\n",
       "      <td>https://www.reddit.com/r/changemyview/comments...</td>\n",
       "      <td>0.104</td>\n",
       "    </tr>\n",
       "    <tr>\n",
       "      <th>450</th>\n",
       "      <td>826qe4</td>\n",
       "      <td>dv8xz94</td>\n",
       "      <td>Probably not. This is why I refused hep B and ...</td>\n",
       "      <td>https://www.reddit.com/r/changemyview/comments...</td>\n",
       "      <td>0.000</td>\n",
       "    </tr>\n",
       "    <tr>\n",
       "      <th>451</th>\n",
       "      <td>7k945q</td>\n",
       "      <td>dvf4bbr</td>\n",
       "      <td>I love how this thread instantly went into gun...</td>\n",
       "      <td>https://www.reddit.com/r/changemyview/comments...</td>\n",
       "      <td>-0.354</td>\n",
       "    </tr>\n",
       "    <tr>\n",
       "      <th>452</th>\n",
       "      <td>7ej2uh</td>\n",
       "      <td>dxl7flf</td>\n",
       "      <td>the public should absolutely contribute money ...</td>\n",
       "      <td>https://www.reddit.com/r/changemyview/comments...</td>\n",
       "      <td>-0.062</td>\n",
       "    </tr>\n",
       "  </tbody>\n",
       "</table>\n",
       "<p>453 rows × 5 columns</p>\n",
       "</div>"
      ],
      "text/plain": [
       "    post_id comment_id                                                txt  \\\n",
       "0    42g75o    cza1q49  > The difference in average earnings between m...   \n",
       "1    42g75o    cza1wdh  The myth is that the \"gap\" is entirely based o...   \n",
       "2    42g75o    cza2bw8  The assertion is that women get paid less for ...   \n",
       "3    42g75o    cza2iji  You said in the OP that's not what they're mea...   \n",
       "4    42g75o    cza2jj3  >Men and women are not payed less for the same...   \n",
       "..      ...        ...                                                ...   \n",
       "448  826qe4    dv8uend  if a healthy kid gets autism after getting vac...   \n",
       "449  826qe4    dv8vp6f  Prosecuting parents who refuse to vaccinate so...   \n",
       "450  826qe4    dv8xz94  Probably not. This is why I refused hep B and ...   \n",
       "451  7k945q    dvf4bbr  I love how this thread instantly went into gun...   \n",
       "452  7ej2uh    dxl7flf  the public should absolutely contribute money ...   \n",
       "\n",
       "                                                   url  offensiveness_score  \n",
       "0    https://www.reddit.com/r/changemyview/comments...               -0.083  \n",
       "1    https://www.reddit.com/r/changemyview/comments...               -0.022  \n",
       "2    https://www.reddit.com/r/changemyview/comments...               -0.146  \n",
       "3    https://www.reddit.com/r/changemyview/comments...               -0.083  \n",
       "4    https://www.reddit.com/r/changemyview/comments...               -0.042  \n",
       "..                                                 ...                  ...  \n",
       "448  https://www.reddit.com/r/changemyview/comments...                0.045  \n",
       "449  https://www.reddit.com/r/changemyview/comments...                0.104  \n",
       "450  https://www.reddit.com/r/changemyview/comments...                0.000  \n",
       "451  https://www.reddit.com/r/changemyview/comments...               -0.354  \n",
       "452  https://www.reddit.com/r/changemyview/comments...               -0.062  \n",
       "\n",
       "[453 rows x 5 columns]"
      ]
     },
     "execution_count": 7,
     "metadata": {},
     "output_type": "execute_result"
    }
   ],
   "source": [
    "ruddit_df"
   ]
  },
  {
   "cell_type": "code",
   "execution_count": 8,
   "metadata": {},
   "outputs": [
    {
     "data": {
      "image/png": "[encoded data removed]",
      "text/plain": [
       "<Figure size 432x288 with 1 Axes>"
      ]
     },
     "metadata": {
      "needs_background": "light"
     },
     "output_type": "display_data"
    }
   ],
   "source": [
    "plt.hist([len(row['txt'].split(' ')) for _, row in ruddit_df.iterrows()], bins=20);"
   ]
  },
  {
   "cell_type": "code",
   "execution_count": 9,
   "metadata": {},
   "outputs": [
    {
     "data": {
      "image/png": "[encoded data removed]",
      "text/plain": [
       "<Figure size 432x288 with 1 Axes>"
      ]
     },
     "metadata": {
      "needs_background": "light"
     },
     "output_type": "display_data"
    }
   ],
   "source": [
    "plt.hist(ruddit_df['offensiveness_score'], bins=20);"
   ]
  },
  {
   "cell_type": "code",
   "execution_count": 14,
   "metadata": {},
   "outputs": [
    {
     "data": {
      "application/vnd.jupyter.widget-view+json": {
       "model_id": "de889ca952de48b99de0a8014cfeefa3",
       "version_major": 2,
       "version_minor": 0
      },
      "text/plain": [
       "  0%|          | 0/453 [00:00<?, ?it/s]"
      ]
     },
     "metadata": {},
     "output_type": "display_data"
    }
   ],
   "source": [
    "ruddit_df['offensiveness_score'] = ruddit_df['offensiveness_score'].progress_apply(lambda s: (s + 1.0) / 2)"
   ]
  },
  {
   "cell_type": "code",
   "execution_count": 15,
   "metadata": {},
   "outputs": [
    {
     "data": {
      "image/png": "[encoded data removed]",
      "text/plain": [
       "<Figure size 432x288 with 1 Axes>"
      ]
     },
     "metadata": {
      "needs_background": "light"
     },
     "output_type": "display_data"
    }
   ],
   "source": [
    "plt.hist(ruddit_df['offensiveness_score'], bins=20);"
   ]
  },
  {
   "cell_type": "code",
   "execution_count": 16,
   "metadata": {},
   "outputs": [
    {
     "data": {
      "text/html": [
       "<div>\n",
       "<style scoped>\n",
       "    .dataframe tbody tr th:only-of-type {\n",
       "        vertical-align: middle;\n",
       "    }\n",
       "\n",
       "    .dataframe tbody tr th {\n",
       "        vertical-align: top;\n",
       "    }\n",
       "\n",
       "    .dataframe thead th {\n",
       "        text-align: right;\n",
       "    }\n",
       "</style>\n",
       "<table border=\"1\" class=\"dataframe\">\n",
       "  <thead>\n",
       "    <tr style=\"text-align: right;\">\n",
       "      <th></th>\n",
       "      <th>comment_text</th>\n",
       "      <th>score</th>\n",
       "    </tr>\n",
       "  </thead>\n",
       "  <tbody>\n",
       "    <tr>\n",
       "      <th>0</th>\n",
       "      <td>&gt; The difference in average earnings between m...</td>\n",
       "      <td>0.4585</td>\n",
       "    </tr>\n",
       "    <tr>\n",
       "      <th>1</th>\n",
       "      <td>The myth is that the \"gap\" is entirely based o...</td>\n",
       "      <td>0.4890</td>\n",
       "    </tr>\n",
       "    <tr>\n",
       "      <th>2</th>\n",
       "      <td>The assertion is that women get paid less for ...</td>\n",
       "      <td>0.4270</td>\n",
       "    </tr>\n",
       "    <tr>\n",
       "      <th>3</th>\n",
       "      <td>You said in the OP that's not what they're mea...</td>\n",
       "      <td>0.4585</td>\n",
       "    </tr>\n",
       "    <tr>\n",
       "      <th>4</th>\n",
       "      <td>&gt;Men and women are not payed less for the same...</td>\n",
       "      <td>0.4790</td>\n",
       "    </tr>\n",
       "    <tr>\n",
       "      <th>...</th>\n",
       "      <td>...</td>\n",
       "      <td>...</td>\n",
       "    </tr>\n",
       "    <tr>\n",
       "      <th>448</th>\n",
       "      <td>if a healthy kid gets autism after getting vac...</td>\n",
       "      <td>0.5225</td>\n",
       "    </tr>\n",
       "    <tr>\n",
       "      <th>449</th>\n",
       "      <td>Prosecuting parents who refuse to vaccinate so...</td>\n",
       "      <td>0.5520</td>\n",
       "    </tr>\n",
       "    <tr>\n",
       "      <th>450</th>\n",
       "      <td>Probably not. This is why I refused hep B and ...</td>\n",
       "      <td>0.5000</td>\n",
       "    </tr>\n",
       "    <tr>\n",
       "      <th>451</th>\n",
       "      <td>I love how this thread instantly went into gun...</td>\n",
       "      <td>0.3230</td>\n",
       "    </tr>\n",
       "    <tr>\n",
       "      <th>452</th>\n",
       "      <td>the public should absolutely contribute money ...</td>\n",
       "      <td>0.4690</td>\n",
       "    </tr>\n",
       "  </tbody>\n",
       "</table>\n",
       "<p>453 rows × 2 columns</p>\n",
       "</div>"
      ],
      "text/plain": [
       "                                          comment_text   score\n",
       "0    > The difference in average earnings between m...  0.4585\n",
       "1    The myth is that the \"gap\" is entirely based o...  0.4890\n",
       "2    The assertion is that women get paid less for ...  0.4270\n",
       "3    You said in the OP that's not what they're mea...  0.4585\n",
       "4    >Men and women are not payed less for the same...  0.4790\n",
       "..                                                 ...     ...\n",
       "448  if a healthy kid gets autism after getting vac...  0.5225\n",
       "449  Prosecuting parents who refuse to vaccinate so...  0.5520\n",
       "450  Probably not. This is why I refused hep B and ...  0.5000\n",
       "451  I love how this thread instantly went into gun...  0.3230\n",
       "452  the public should absolutely contribute money ...  0.4690\n",
       "\n",
       "[453 rows x 2 columns]"
      ]
     },
     "execution_count": 16,
     "metadata": {},
     "output_type": "execute_result"
    }
   ],
   "source": [
    "ruddit_df = ruddit_df.rename({'txt': 'comment_text', 'offensiveness_score': 'score'}, axis=1).drop(['comment_id', 'post_id', 'url'], axis=1)\n",
    "ruddit_df"
   ]
  },
  {
   "cell_type": "code",
   "execution_count": 35,
   "metadata": {},
   "outputs": [],
   "source": [
    "ruddit_df.to_csv(RUDDIT_DATASET_DIR / 'train.csv', index=False)"
   ]
  },
  {
   "cell_type": "code",
   "execution_count": 11,
   "metadata": {},
   "outputs": [],
   "source": [
    "ruddit_no_quote_df = pd.read_csv(RUDDIT_DATASET_DIR / 'train_no_quote.csv')"
   ]
  },
  {
   "cell_type": "code",
   "execution_count": 12,
   "metadata": {},
   "outputs": [
    {
     "data": {
      "text/html": [
       "<div>\n",
       "<style scoped>\n",
       "    .dataframe tbody tr th:only-of-type {\n",
       "        vertical-align: middle;\n",
       "    }\n",
       "\n",
       "    .dataframe tbody tr th {\n",
       "        vertical-align: top;\n",
       "    }\n",
       "\n",
       "    .dataframe thead th {\n",
       "        text-align: right;\n",
       "    }\n",
       "</style>\n",
       "<table border=\"1\" class=\"dataframe\">\n",
       "  <thead>\n",
       "    <tr style=\"text-align: right;\">\n",
       "      <th></th>\n",
       "      <th>comment_text</th>\n",
       "      <th>score</th>\n",
       "    </tr>\n",
       "  </thead>\n",
       "  <tbody>\n",
       "    <tr>\n",
       "      <th>0</th>\n",
       "      <td>\\nSo it isn't a myth, you just feel that you c...</td>\n",
       "      <td>0.4585</td>\n",
       "    </tr>\n",
       "    <tr>\n",
       "      <th>1</th>\n",
       "      <td>The myth is that the \"gap\" is entirely based o...</td>\n",
       "      <td>0.4890</td>\n",
       "    </tr>\n",
       "    <tr>\n",
       "      <th>2</th>\n",
       "      <td>The assertion is that women get paid less for ...</td>\n",
       "      <td>0.4270</td>\n",
       "    </tr>\n",
       "    <tr>\n",
       "      <th>3</th>\n",
       "      <td>You said in the OP that's not what they're mea...</td>\n",
       "      <td>0.4585</td>\n",
       "    </tr>\n",
       "    <tr>\n",
       "      <th>4</th>\n",
       "      <td>\\nI don't think many people say this is the ca...</td>\n",
       "      <td>0.4790</td>\n",
       "    </tr>\n",
       "    <tr>\n",
       "      <th>...</th>\n",
       "      <td>...</td>\n",
       "      <td>...</td>\n",
       "    </tr>\n",
       "    <tr>\n",
       "      <th>448</th>\n",
       "      <td>if a healthy kid gets autism after getting vac...</td>\n",
       "      <td>0.5225</td>\n",
       "    </tr>\n",
       "    <tr>\n",
       "      <th>449</th>\n",
       "      <td>Prosecuting parents who refuse to vaccinate so...</td>\n",
       "      <td>0.5520</td>\n",
       "    </tr>\n",
       "    <tr>\n",
       "      <th>450</th>\n",
       "      <td>Probably not. This is why I refused hep B and ...</td>\n",
       "      <td>0.5000</td>\n",
       "    </tr>\n",
       "    <tr>\n",
       "      <th>451</th>\n",
       "      <td>I love how this thread instantly went into gun...</td>\n",
       "      <td>0.3230</td>\n",
       "    </tr>\n",
       "    <tr>\n",
       "      <th>452</th>\n",
       "      <td>the public should absolutely contribute money ...</td>\n",
       "      <td>0.4690</td>\n",
       "    </tr>\n",
       "  </tbody>\n",
       "</table>\n",
       "<p>453 rows × 2 columns</p>\n",
       "</div>"
      ],
      "text/plain": [
       "                                          comment_text   score\n",
       "0    \\nSo it isn't a myth, you just feel that you c...  0.4585\n",
       "1    The myth is that the \"gap\" is entirely based o...  0.4890\n",
       "2    The assertion is that women get paid less for ...  0.4270\n",
       "3    You said in the OP that's not what they're mea...  0.4585\n",
       "4    \\nI don't think many people say this is the ca...  0.4790\n",
       "..                                                 ...     ...\n",
       "448  if a healthy kid gets autism after getting vac...  0.5225\n",
       "449  Prosecuting parents who refuse to vaccinate so...  0.5520\n",
       "450  Probably not. This is why I refused hep B and ...  0.5000\n",
       "451  I love how this thread instantly went into gun...  0.3230\n",
       "452  the public should absolutely contribute money ...  0.4690\n",
       "\n",
       "[453 rows x 2 columns]"
      ]
     },
     "execution_count": 12,
     "metadata": {},
     "output_type": "execute_result"
    }
   ],
   "source": [
    "ruddit_no_quote_df"
   ]
  },
  {
   "cell_type": "code",
   "execution_count": 32,
   "metadata": {},
   "outputs": [],
   "source": [
    "def _remove_quote(text: str) -> str:\n",
    "    if not text.startswith('>'):\n",
    "        return text\n",
    "    return '\\n'.join(text.split('\\n')[1:])"
   ]
  },
  {
   "cell_type": "code",
   "execution_count": 33,
   "metadata": {},
   "outputs": [],
   "source": [
    "no_quote_ruddit_df = ruddit_df.copy()\n",
    "no_quote_ruddit_df['comment_text'] = no_quote_ruddit_df['comment_text'].apply(_remove_quote)"
   ]
  },
  {
   "cell_type": "code",
   "execution_count": 36,
   "metadata": {},
   "outputs": [],
   "source": [
    "no_quote_ruddit_df.to_csv(RUDDIT_DATASET_DIR / 'train_no_quote.csv', index=False)"
   ]
  }
 ],
 "metadata": {
  "interpreter": {
   "hash": "d4d1e4263499bec80672ea0156c357c1ee493ec2b1c70f0acce89fc37c4a6abe"
  },
  "kernelspec": {
   "display_name": "Python 3.9.7 64-bit ('base': conda)",
   "language": "python",
   "name": "python3"
  },
  "language_info": {
   "codemirror_mode": {
    "name": "ipython",
    "version": 3
   },
   "file_extension": ".py",
   "mimetype": "text/x-python",
   "name": "python",
   "nbconvert_exporter": "python",
   "pygments_lexer": "ipython3",
   "version": "3.9.7"
  },
  "orig_nbformat": 4
 },
 "nbformat": 4,
 "nbformat_minor": 2
}
