{
 "cells": [
  {
   "cell_type": "code",
   "execution_count": 10,
   "metadata": {},
   "outputs": [],
   "source": [
    "from pathlib import Path\n",
    "\n",
    "import matplotlib.pyplot as plt\n",
    "import pandas as pd\n",
    "from tqdm.notebook import tqdm"
   ]
  },
  {
   "cell_type": "code",
   "execution_count": 2,
   "metadata": {},
   "outputs": [],
   "source": [
    "DATASET_DIR = Path('/home/jovyan/jigsaw-toxic/data/datasets/c3')"
   ]
  },
  {
   "cell_type": "code",
   "execution_count": 7,
   "metadata": {},
   "outputs": [],
   "source": [
    "!cp /home/jovyan/jigsaw-toxic/data/jigsaw-toxic-severity-rating/valid.csv $DATASET_DIR/valid.csv"
   ]
  },
  {
   "cell_type": "code",
   "execution_count": 4,
   "metadata": {},
   "outputs": [
    {
     "name": "stdout",
     "output_type": "stream",
     "text": [
      "total 12624\n",
      "drwxr-xr-x  2 jovyan users     4096 Feb  6 17:15 .\n",
      "drwxr-xr-x 15 jovyan users     4096 Feb  6 17:15 ..\n",
      "-rw-r--r--  1 jovyan users 12917597 Feb  6 17:15 C3_anonymized.csv\n"
     ]
    }
   ],
   "source": [
    "!ls -la $DATASET_DIR"
   ]
  },
  {
   "cell_type": "code",
   "execution_count": 8,
   "metadata": {},
   "outputs": [],
   "source": [
    "orig_df = pd.read_csv(DATASET_DIR / 'C3_anonymized.csv')\n",
    "valid_df = pd.read_csv(DATASET_DIR / 'valid.csv')"
   ]
  },
  {
   "cell_type": "code",
   "execution_count": 14,
   "metadata": {},
   "outputs": [],
   "source": [
    "valid_comment_set = set(valid_df['more_toxic'].unique()) | set(valid_df['less_toxic'].unique())"
   ]
  },
  {
   "cell_type": "code",
   "execution_count": 9,
   "metadata": {},
   "outputs": [
    {
     "data": {
      "text/html": [
       "<div>\n",
       "<style scoped>\n",
       "    .dataframe tbody tr th:only-of-type {\n",
       "        vertical-align: middle;\n",
       "    }\n",
       "\n",
       "    .dataframe tbody tr th {\n",
       "        vertical-align: top;\n",
       "    }\n",
       "\n",
       "    .dataframe thead th {\n",
       "        text-align: right;\n",
       "    }\n",
       "</style>\n",
       "<table border=\"1\" class=\"dataframe\">\n",
       "  <thead>\n",
       "    <tr style=\"text-align: right;\">\n",
       "      <th></th>\n",
       "      <th>article_id</th>\n",
       "      <th>comment_author</th>\n",
       "      <th>comment_counter</th>\n",
       "      <th>comment_text</th>\n",
       "      <th>njudgements_constructiveness_expt</th>\n",
       "      <th>njudgements_toxicity_expt</th>\n",
       "      <th>agree_constructiveness_expt</th>\n",
       "      <th>agree_toxicity_expt</th>\n",
       "      <th>constructive</th>\n",
       "      <th>crowd_toxicity_level</th>\n",
       "      <th>...</th>\n",
       "      <th>constructive_characteristics</th>\n",
       "      <th>non_constructive_characteristics</th>\n",
       "      <th>toxicity_characteristics</th>\n",
       "      <th>crowd_comments_constructiveness_expt</th>\n",
       "      <th>crowd_comments_toxicity_expt</th>\n",
       "      <th>other_con_chars</th>\n",
       "      <th>other_noncon_chars</th>\n",
       "      <th>other_toxic_chars</th>\n",
       "      <th>constructive_binary</th>\n",
       "      <th>pp_comment_text</th>\n",
       "    </tr>\n",
       "  </thead>\n",
       "  <tbody>\n",
       "    <tr>\n",
       "      <th>0</th>\n",
       "      <td>26023945</td>\n",
       "      <td>0</td>\n",
       "      <td>source1_26023945_62</td>\n",
       "      <td>And this Conservative strategy has produced th...</td>\n",
       "      <td>3.0</td>\n",
       "      <td>3.0</td>\n",
       "      <td>0.17</td>\n",
       "      <td>0.50</td>\n",
       "      <td>1.0</td>\n",
       "      <td>4.0</td>\n",
       "      <td>...</td>\n",
       "      <td>specific_points:3\\ndialogue:2</td>\n",
       "      <td>no_non_con:3\\nprovocative:1</td>\n",
       "      <td>abusive:3\\npersonal_attack:1\\nteasing:1\\nembar...</td>\n",
       "      <td>\\n\\n</td>\n",
       "      <td>\\n\\n</td>\n",
       "      <td>\\n\\n</td>\n",
       "      <td>\\n\\n</td>\n",
       "      <td>\\n\\n</td>\n",
       "      <td>1.0</td>\n",
       "      <td>And this Conservative strategy has produced th...</td>\n",
       "    </tr>\n",
       "    <tr>\n",
       "      <th>1</th>\n",
       "      <td>24565777</td>\n",
       "      <td>1</td>\n",
       "      <td>source1_24565777_106</td>\n",
       "      <td>I commend Harper for holding the debates outsi...</td>\n",
       "      <td>3.0</td>\n",
       "      <td>3.0</td>\n",
       "      <td>0.33</td>\n",
       "      <td>0.17</td>\n",
       "      <td>1.0</td>\n",
       "      <td>3.0</td>\n",
       "      <td>...</td>\n",
       "      <td>specific_points:3\\ndialogue:2</td>\n",
       "      <td>no_non_con:2\\nno_respect:1</td>\n",
       "      <td>abusive:1\\npersonal_attack:1\\nteasing:1\\nembar...</td>\n",
       "      <td>\\n\\n</td>\n",
       "      <td>\\n\\n</td>\n",
       "      <td>\\n\\n</td>\n",
       "      <td>\\n\\n</td>\n",
       "      <td>\\n\\n</td>\n",
       "      <td>1.0</td>\n",
       "      <td>I commend Harper for holding the debates outsi...</td>\n",
       "    </tr>\n",
       "    <tr>\n",
       "      <th>2</th>\n",
       "      <td>28775443</td>\n",
       "      <td>2</td>\n",
       "      <td>source1_28775443_136</td>\n",
       "      <td>What a joke Rachel Notley is. This is what was...</td>\n",
       "      <td>3.0</td>\n",
       "      <td>3.0</td>\n",
       "      <td>0.83</td>\n",
       "      <td>0.00</td>\n",
       "      <td>1.0</td>\n",
       "      <td>3.0</td>\n",
       "      <td>...</td>\n",
       "      <td>specific_points:2\\ndialogue:1</td>\n",
       "      <td>no_non_con:2\\nprovocative:1</td>\n",
       "      <td>personal_attack:3\\ninflammatory:3\\nteasing:3\\n...</td>\n",
       "      <td>\\n\\n</td>\n",
       "      <td>\\n\\n</td>\n",
       "      <td>\\n\\n</td>\n",
       "      <td>\\n\\n</td>\n",
       "      <td>\\n\\n</td>\n",
       "      <td>1.0</td>\n",
       "      <td>What a joke Rachel Notley is . This is what wa...</td>\n",
       "    </tr>\n",
       "    <tr>\n",
       "      <th>3</th>\n",
       "      <td>8996700</td>\n",
       "      <td>3</td>\n",
       "      <td>source1_8996700_50</td>\n",
       "      <td>Do you need to write an essay to prove the poi...</td>\n",
       "      <td>3.0</td>\n",
       "      <td>3.0</td>\n",
       "      <td>1.00</td>\n",
       "      <td>0.83</td>\n",
       "      <td>1.0</td>\n",
       "      <td>3.0</td>\n",
       "      <td>...</td>\n",
       "      <td>dialogue:1\\nevidence:1\\nspecific_points:1</td>\n",
       "      <td>no_non_con:2\\nnon_relevant:1</td>\n",
       "      <td>personal_attack:2\\nteasing:2\\nembarrassment:2\\...</td>\n",
       "      <td>\\n\\n</td>\n",
       "      <td>\\n\\n</td>\n",
       "      <td>\\n\\n</td>\n",
       "      <td>\\n\\n</td>\n",
       "      <td>\\n\\n</td>\n",
       "      <td>1.0</td>\n",
       "      <td>Do you need to write an essay to prove the poi...</td>\n",
       "    </tr>\n",
       "    <tr>\n",
       "      <th>4</th>\n",
       "      <td>29405071</td>\n",
       "      <td>4</td>\n",
       "      <td>source1_29405071_126</td>\n",
       "      <td>Rob Ford was no saint. He should never have be...</td>\n",
       "      <td>3.0</td>\n",
       "      <td>3.0</td>\n",
       "      <td>0.83</td>\n",
       "      <td>0.33</td>\n",
       "      <td>1.0</td>\n",
       "      <td>3.0</td>\n",
       "      <td>...</td>\n",
       "      <td>specific_points:3\\nsolution:1</td>\n",
       "      <td>no_non_con:3</td>\n",
       "      <td>teasing:3\\npersonal_attack:2\\nabusive:1\\nembar...</td>\n",
       "      <td>\\n\\n</td>\n",
       "      <td>\\n\\n</td>\n",
       "      <td>\\n\\n</td>\n",
       "      <td>\\n\\n</td>\n",
       "      <td>\\n\\n</td>\n",
       "      <td>1.0</td>\n",
       "      <td>Rob Ford was no saint . He should never have b...</td>\n",
       "    </tr>\n",
       "    <tr>\n",
       "      <th>...</th>\n",
       "      <td>...</td>\n",
       "      <td>...</td>\n",
       "      <td>...</td>\n",
       "      <td>...</td>\n",
       "      <td>...</td>\n",
       "      <td>...</td>\n",
       "      <td>...</td>\n",
       "      <td>...</td>\n",
       "      <td>...</td>\n",
       "      <td>...</td>\n",
       "      <td>...</td>\n",
       "      <td>...</td>\n",
       "      <td>...</td>\n",
       "      <td>...</td>\n",
       "      <td>...</td>\n",
       "      <td>...</td>\n",
       "      <td>...</td>\n",
       "      <td>...</td>\n",
       "      <td>...</td>\n",
       "      <td>...</td>\n",
       "      <td>...</td>\n",
       "    </tr>\n",
       "    <tr>\n",
       "      <th>11995</th>\n",
       "      <td>27047599</td>\n",
       "      <td>5518</td>\n",
       "      <td>source1_27047599_144</td>\n",
       "      <td>How many Liberal MP's have some affiliation to...</td>\n",
       "      <td>5.0</td>\n",
       "      <td>5.0</td>\n",
       "      <td>0.20</td>\n",
       "      <td>0.30</td>\n",
       "      <td>0.0</td>\n",
       "      <td>1.0</td>\n",
       "      <td>...</td>\n",
       "      <td>no_con:3\\ndialogue:2</td>\n",
       "      <td>no_non_con:3\\nnon_relevant:2\\nno_respect:1\\nun...</td>\n",
       "      <td>no_toxic:5</td>\n",
       "      <td>\\n\\n\\n\\n</td>\n",
       "      <td>\\n\\n\\n\\n</td>\n",
       "      <td>\\n\\n\\n\\n</td>\n",
       "      <td>\\n\\n\\n\\n</td>\n",
       "      <td>\\n\\n\\n\\n</td>\n",
       "      <td>0.0</td>\n",
       "      <td>How many Liberal MPs have some affiliation to ...</td>\n",
       "    </tr>\n",
       "    <tr>\n",
       "      <th>11996</th>\n",
       "      <td>27047599</td>\n",
       "      <td>635</td>\n",
       "      <td>source1_27047599_56</td>\n",
       "      <td>Ontario certainly has the government they dese...</td>\n",
       "      <td>5.0</td>\n",
       "      <td>5.0</td>\n",
       "      <td>0.30</td>\n",
       "      <td>0.50</td>\n",
       "      <td>0.0</td>\n",
       "      <td>1.0</td>\n",
       "      <td>...</td>\n",
       "      <td>no_con:4\\nspecific_points:1</td>\n",
       "      <td>no_non_con:2\\nunsubstantial:2\\nnon_relevant:1\\...</td>\n",
       "      <td>no_toxic:5</td>\n",
       "      <td>\\n\\n\\n\\n</td>\n",
       "      <td>\\n\\n\\n\\n</td>\n",
       "      <td>\\n\\n\\n\\n</td>\n",
       "      <td>\\n\\n\\n\\n</td>\n",
       "      <td>\\n\\n\\n\\n</td>\n",
       "      <td>0.0</td>\n",
       "      <td>Ontario certainly has the government they dese...</td>\n",
       "    </tr>\n",
       "    <tr>\n",
       "      <th>11997</th>\n",
       "      <td>27047599</td>\n",
       "      <td>2058</td>\n",
       "      <td>source1_27047599_63</td>\n",
       "      <td>4th grade teachers....proud members of the 1%!</td>\n",
       "      <td>5.0</td>\n",
       "      <td>5.0</td>\n",
       "      <td>0.30</td>\n",
       "      <td>0.30</td>\n",
       "      <td>0.0</td>\n",
       "      <td>1.0</td>\n",
       "      <td>...</td>\n",
       "      <td>no_con:3\\nspecific_points:1\\ndialogue:1</td>\n",
       "      <td>non_relevant:2\\nno_non_con:1\\nsarcastic:1\\npro...</td>\n",
       "      <td>no_toxic:5</td>\n",
       "      <td>\\n\\n\\n\\n</td>\n",
       "      <td>\\n\\n\\n\\n</td>\n",
       "      <td>\\n\\n\\n\\n</td>\n",
       "      <td>\\n\\n\\n\\n</td>\n",
       "      <td>\\n\\n\\n\\n</td>\n",
       "      <td>0.0</td>\n",
       "      <td>4th grade teachers ... .proud members of the 1...</td>\n",
       "    </tr>\n",
       "    <tr>\n",
       "      <th>11998</th>\n",
       "      <td>27047599</td>\n",
       "      <td>1585</td>\n",
       "      <td>source1_27047599_18</td>\n",
       "      <td>The Kathleen McGuinty government has a sweethe...</td>\n",
       "      <td>5.0</td>\n",
       "      <td>5.0</td>\n",
       "      <td>0.20</td>\n",
       "      <td>1.00</td>\n",
       "      <td>0.0</td>\n",
       "      <td>1.0</td>\n",
       "      <td>...</td>\n",
       "      <td>no_con:2\\npersonal_story:1\\nspecific_points:1\\...</td>\n",
       "      <td>no_non_con:2\\nsarcastic:1\\nunsubstantial:1\\nno...</td>\n",
       "      <td>no_toxic:5</td>\n",
       "      <td>\\n\\n\\n\\n</td>\n",
       "      <td>\\n\\n\\n\\n</td>\n",
       "      <td>\\n\\n\\n\\n</td>\n",
       "      <td>\\n\\n\\n\\n</td>\n",
       "      <td>\\n\\n\\n\\n</td>\n",
       "      <td>0.0</td>\n",
       "      <td>The Kathleen McGuinty government has a sweethe...</td>\n",
       "    </tr>\n",
       "    <tr>\n",
       "      <th>11999</th>\n",
       "      <td>27047599</td>\n",
       "      <td>1122</td>\n",
       "      <td>source1_27047599_89</td>\n",
       "      <td>you forget to - or dared not - mention that te...</td>\n",
       "      <td>5.0</td>\n",
       "      <td>5.0</td>\n",
       "      <td>0.40</td>\n",
       "      <td>0.50</td>\n",
       "      <td>0.0</td>\n",
       "      <td>1.0</td>\n",
       "      <td>...</td>\n",
       "      <td>no_con:5</td>\n",
       "      <td>unsubstantial:3\\nsarcastic:1\\nnon_relevant:1\\n...</td>\n",
       "      <td>no_toxic:5</td>\n",
       "      <td>\\n\\n\\n\\n</td>\n",
       "      <td>\\n\\n\\n\\n</td>\n",
       "      <td>\\n\\n\\n\\n</td>\n",
       "      <td>\\n\\n\\n\\n</td>\n",
       "      <td>\\n\\n\\n\\n</td>\n",
       "      <td>0.0</td>\n",
       "      <td>you forget to - or dared not - mention that te...</td>\n",
       "    </tr>\n",
       "  </tbody>\n",
       "</table>\n",
       "<p>12000 rows × 22 columns</p>\n",
       "</div>"
      ],
      "text/plain": [
       "       article_id  comment_author       comment_counter  \\\n",
       "0        26023945               0   source1_26023945_62   \n",
       "1        24565777               1  source1_24565777_106   \n",
       "2        28775443               2  source1_28775443_136   \n",
       "3         8996700               3    source1_8996700_50   \n",
       "4        29405071               4  source1_29405071_126   \n",
       "...           ...             ...                   ...   \n",
       "11995    27047599            5518  source1_27047599_144   \n",
       "11996    27047599             635   source1_27047599_56   \n",
       "11997    27047599            2058   source1_27047599_63   \n",
       "11998    27047599            1585   source1_27047599_18   \n",
       "11999    27047599            1122   source1_27047599_89   \n",
       "\n",
       "                                            comment_text  \\\n",
       "0      And this Conservative strategy has produced th...   \n",
       "1      I commend Harper for holding the debates outsi...   \n",
       "2      What a joke Rachel Notley is. This is what was...   \n",
       "3      Do you need to write an essay to prove the poi...   \n",
       "4      Rob Ford was no saint. He should never have be...   \n",
       "...                                                  ...   \n",
       "11995  How many Liberal MP's have some affiliation to...   \n",
       "11996  Ontario certainly has the government they dese...   \n",
       "11997     4th grade teachers....proud members of the 1%!   \n",
       "11998  The Kathleen McGuinty government has a sweethe...   \n",
       "11999  you forget to - or dared not - mention that te...   \n",
       "\n",
       "       njudgements_constructiveness_expt  njudgements_toxicity_expt  \\\n",
       "0                                    3.0                        3.0   \n",
       "1                                    3.0                        3.0   \n",
       "2                                    3.0                        3.0   \n",
       "3                                    3.0                        3.0   \n",
       "4                                    3.0                        3.0   \n",
       "...                                  ...                        ...   \n",
       "11995                                5.0                        5.0   \n",
       "11996                                5.0                        5.0   \n",
       "11997                                5.0                        5.0   \n",
       "11998                                5.0                        5.0   \n",
       "11999                                5.0                        5.0   \n",
       "\n",
       "       agree_constructiveness_expt  agree_toxicity_expt  constructive  \\\n",
       "0                             0.17                 0.50           1.0   \n",
       "1                             0.33                 0.17           1.0   \n",
       "2                             0.83                 0.00           1.0   \n",
       "3                             1.00                 0.83           1.0   \n",
       "4                             0.83                 0.33           1.0   \n",
       "...                            ...                  ...           ...   \n",
       "11995                         0.20                 0.30           0.0   \n",
       "11996                         0.30                 0.50           0.0   \n",
       "11997                         0.30                 0.30           0.0   \n",
       "11998                         0.20                 1.00           0.0   \n",
       "11999                         0.40                 0.50           0.0   \n",
       "\n",
       "       crowd_toxicity_level  ...  \\\n",
       "0                       4.0  ...   \n",
       "1                       3.0  ...   \n",
       "2                       3.0  ...   \n",
       "3                       3.0  ...   \n",
       "4                       3.0  ...   \n",
       "...                     ...  ...   \n",
       "11995                   1.0  ...   \n",
       "11996                   1.0  ...   \n",
       "11997                   1.0  ...   \n",
       "11998                   1.0  ...   \n",
       "11999                   1.0  ...   \n",
       "\n",
       "                            constructive_characteristics  \\\n",
       "0                          specific_points:3\\ndialogue:2   \n",
       "1                          specific_points:3\\ndialogue:2   \n",
       "2                          specific_points:2\\ndialogue:1   \n",
       "3              dialogue:1\\nevidence:1\\nspecific_points:1   \n",
       "4                          specific_points:3\\nsolution:1   \n",
       "...                                                  ...   \n",
       "11995                               no_con:3\\ndialogue:2   \n",
       "11996                        no_con:4\\nspecific_points:1   \n",
       "11997            no_con:3\\nspecific_points:1\\ndialogue:1   \n",
       "11998  no_con:2\\npersonal_story:1\\nspecific_points:1\\...   \n",
       "11999                                           no_con:5   \n",
       "\n",
       "                        non_constructive_characteristics  \\\n",
       "0                            no_non_con:3\\nprovocative:1   \n",
       "1                             no_non_con:2\\nno_respect:1   \n",
       "2                            no_non_con:2\\nprovocative:1   \n",
       "3                           no_non_con:2\\nnon_relevant:1   \n",
       "4                                           no_non_con:3   \n",
       "...                                                  ...   \n",
       "11995  no_non_con:3\\nnon_relevant:2\\nno_respect:1\\nun...   \n",
       "11996  no_non_con:2\\nunsubstantial:2\\nnon_relevant:1\\...   \n",
       "11997  non_relevant:2\\nno_non_con:1\\nsarcastic:1\\npro...   \n",
       "11998  no_non_con:2\\nsarcastic:1\\nunsubstantial:1\\nno...   \n",
       "11999  unsubstantial:3\\nsarcastic:1\\nnon_relevant:1\\n...   \n",
       "\n",
       "                                toxicity_characteristics  \\\n",
       "0      abusive:3\\npersonal_attack:1\\nteasing:1\\nembar...   \n",
       "1      abusive:1\\npersonal_attack:1\\nteasing:1\\nembar...   \n",
       "2      personal_attack:3\\ninflammatory:3\\nteasing:3\\n...   \n",
       "3      personal_attack:2\\nteasing:2\\nembarrassment:2\\...   \n",
       "4      teasing:3\\npersonal_attack:2\\nabusive:1\\nembar...   \n",
       "...                                                  ...   \n",
       "11995                                         no_toxic:5   \n",
       "11996                                         no_toxic:5   \n",
       "11997                                         no_toxic:5   \n",
       "11998                                         no_toxic:5   \n",
       "11999                                         no_toxic:5   \n",
       "\n",
       "      crowd_comments_constructiveness_expt crowd_comments_toxicity_expt  \\\n",
       "0                                     \\n\\n                         \\n\\n   \n",
       "1                                     \\n\\n                         \\n\\n   \n",
       "2                                     \\n\\n                         \\n\\n   \n",
       "3                                     \\n\\n                         \\n\\n   \n",
       "4                                     \\n\\n                         \\n\\n   \n",
       "...                                    ...                          ...   \n",
       "11995                             \\n\\n\\n\\n                     \\n\\n\\n\\n   \n",
       "11996                             \\n\\n\\n\\n                     \\n\\n\\n\\n   \n",
       "11997                             \\n\\n\\n\\n                     \\n\\n\\n\\n   \n",
       "11998                             \\n\\n\\n\\n                     \\n\\n\\n\\n   \n",
       "11999                             \\n\\n\\n\\n                     \\n\\n\\n\\n   \n",
       "\n",
       "      other_con_chars other_noncon_chars other_toxic_chars  \\\n",
       "0                \\n\\n               \\n\\n              \\n\\n   \n",
       "1                \\n\\n               \\n\\n              \\n\\n   \n",
       "2                \\n\\n               \\n\\n              \\n\\n   \n",
       "3                \\n\\n               \\n\\n              \\n\\n   \n",
       "4                \\n\\n               \\n\\n              \\n\\n   \n",
       "...               ...                ...               ...   \n",
       "11995        \\n\\n\\n\\n           \\n\\n\\n\\n          \\n\\n\\n\\n   \n",
       "11996        \\n\\n\\n\\n           \\n\\n\\n\\n          \\n\\n\\n\\n   \n",
       "11997        \\n\\n\\n\\n           \\n\\n\\n\\n          \\n\\n\\n\\n   \n",
       "11998        \\n\\n\\n\\n           \\n\\n\\n\\n          \\n\\n\\n\\n   \n",
       "11999        \\n\\n\\n\\n           \\n\\n\\n\\n          \\n\\n\\n\\n   \n",
       "\n",
       "      constructive_binary                                    pp_comment_text  \n",
       "0                     1.0  And this Conservative strategy has produced th...  \n",
       "1                     1.0  I commend Harper for holding the debates outsi...  \n",
       "2                     1.0  What a joke Rachel Notley is . This is what wa...  \n",
       "3                     1.0  Do you need to write an essay to prove the poi...  \n",
       "4                     1.0  Rob Ford was no saint . He should never have b...  \n",
       "...                   ...                                                ...  \n",
       "11995                 0.0  How many Liberal MPs have some affiliation to ...  \n",
       "11996                 0.0  Ontario certainly has the government they dese...  \n",
       "11997                 0.0  4th grade teachers ... .proud members of the 1...  \n",
       "11998                 0.0  The Kathleen McGuinty government has a sweethe...  \n",
       "11999                 0.0  you forget to - or dared not - mention that te...  \n",
       "\n",
       "[12000 rows x 22 columns]"
      ]
     },
     "execution_count": 9,
     "metadata": {},
     "output_type": "execute_result"
    }
   ],
   "source": [
    "orig_df"
   ]
  },
  {
   "cell_type": "code",
   "execution_count": 11,
   "metadata": {},
   "outputs": [
    {
     "data": {
      "image/png": "[encoded data removed]",
      "text/plain": [
       "<Figure size 432x288 with 1 Axes>"
      ]
     },
     "metadata": {
      "needs_background": "light"
     },
     "output_type": "display_data"
    }
   ],
   "source": [
    "plt.hist(orig_df['agree_toxicity_expt'], bins=50);"
   ]
  },
  {
   "cell_type": "code",
   "execution_count": 12,
   "metadata": {},
   "outputs": [
    {
     "data": {
      "image/png": "[encoded data removed]",
      "text/plain": [
       "<Figure size 432x288 with 1 Axes>"
      ]
     },
     "metadata": {
      "needs_background": "light"
     },
     "output_type": "display_data"
    }
   ],
   "source": [
    "plt.hist(orig_df['crowd_toxicity_level'], bins=50);"
   ]
  },
  {
   "cell_type": "code",
   "execution_count": 13,
   "metadata": {},
   "outputs": [
    {
     "data": {
      "image/png": "[encoded data removed]",
      "text/plain": [
       "<Figure size 432x288 with 1 Axes>"
      ]
     },
     "metadata": {
      "needs_background": "light"
     },
     "output_type": "display_data"
    }
   ],
   "source": [
    "plt.hist(orig_df['agree_toxicity_expt'] * orig_df['crowd_toxicity_level'], bins=50);"
   ]
  },
  {
   "cell_type": "code",
   "execution_count": 15,
   "metadata": {},
   "outputs": [
    {
     "data": {
      "text/plain": [
       "set()"
      ]
     },
     "execution_count": 15,
     "metadata": {},
     "output_type": "execute_result"
    }
   ],
   "source": [
    "set(orig_df['comment_text'].unique()) & valid_comment_set"
   ]
  },
  {
   "cell_type": "code",
   "execution_count": 25,
   "metadata": {},
   "outputs": [],
   "source": [
    "def generate_scores(df: pd.DataFrame) -> pd.DataFrame:\n",
    "    df = df.copy()\n",
    "    df['agree_toxicity_expt_score'] = (df['agree_toxicity_expt'] - df['agree_toxicity_expt'].min()) / (df['agree_toxicity_expt'].max() - df['agree_toxicity_expt'].min())\n",
    "    df['crowd_toxicity_level_score'] = (df['crowd_toxicity_level'] - df['crowd_toxicity_level'].min()) / (df['crowd_toxicity_level'].max() - df['crowd_toxicity_level'].min())\n",
    "    df['aggregated_score'] = df['agree_toxicity_expt'] * df['crowd_toxicity_level']\n",
    "    df['aggregated_score'] = (df['aggregated_score'] - df['aggregated_score'].min()) / (df['aggregated_score'].max() - df['aggregated_score'].min())\n",
    "    return df[['comment_text', 'agree_toxicity_expt_score', 'crowd_toxicity_level_score', 'aggregated_score']]"
   ]
  },
  {
   "cell_type": "code",
   "execution_count": 26,
   "metadata": {},
   "outputs": [],
   "source": [
    "train_df = generate_scores(orig_df)"
   ]
  },
  {
   "cell_type": "code",
   "execution_count": 27,
   "metadata": {},
   "outputs": [
    {
     "data": {
      "image/png": "[encoded data removed]",
      "text/plain": [
       "<Figure size 432x288 with 1 Axes>"
      ]
     },
     "metadata": {
      "needs_background": "light"
     },
     "output_type": "display_data"
    }
   ],
   "source": [
    "plt.hist(train_df['agree_toxicity_expt_score'], bins=50);"
   ]
  },
  {
   "cell_type": "code",
   "execution_count": 28,
   "metadata": {},
   "outputs": [
    {
     "data": {
      "image/png": "[encoded data removed]",
      "text/plain": [
       "<Figure size 432x288 with 1 Axes>"
      ]
     },
     "metadata": {
      "needs_background": "light"
     },
     "output_type": "display_data"
    }
   ],
   "source": [
    "plt.hist(train_df['crowd_toxicity_level_score'], bins=50);"
   ]
  },
  {
   "cell_type": "code",
   "execution_count": 29,
   "metadata": {},
   "outputs": [
    {
     "data": {
      "image/png": "[encoded data removed]",
      "text/plain": [
       "<Figure size 432x288 with 1 Axes>"
      ]
     },
     "metadata": {
      "needs_background": "light"
     },
     "output_type": "display_data"
    }
   ],
   "source": [
    "plt.hist(train_df['aggregated_score'], bins=50);"
   ]
  },
  {
   "cell_type": "code",
   "execution_count": 31,
   "metadata": {},
   "outputs": [],
   "source": [
    "train_df.to_csv(DATASET_DIR / 'train_reg.csv', index=False)"
   ]
  },
  {
   "cell_type": "code",
   "execution_count": 32,
   "metadata": {},
   "outputs": [
    {
     "name": "stdout",
     "output_type": "stream",
     "text": [
      "total 26392\n",
      "drwxr-xr-x  2 jovyan users     4096 Feb  6 17:52 .\n",
      "drwxr-xr-x 15 jovyan users     4096 Feb  6 17:15 ..\n",
      "-rw-r--r--  1 jovyan users 12917597 Feb  6 17:15 C3_anonymized.csv\n",
      "-rw-r--r--  1 jovyan users  5462728 Feb  6 17:52 train_reg.csv\n",
      "-rw-r--r--  1 jovyan users  8633656 Feb  6 17:18 valid.csv\n"
     ]
    }
   ],
   "source": [
    "!ls -la $DATASET_DIR"
   ]
  }
 ],
 "metadata": {
  "interpreter": {
   "hash": "d4d1e4263499bec80672ea0156c357c1ee493ec2b1c70f0acce89fc37c4a6abe"
  },
  "kernelspec": {
   "display_name": "Python 3.9.7 ('base')",
   "language": "python",
   "name": "python3"
  },
  "language_info": {
   "codemirror_mode": {
    "name": "ipython",
    "version": 3
   },
   "file_extension": ".py",
   "mimetype": "text/x-python",
   "name": "python",
   "nbconvert_exporter": "python",
   "pygments_lexer": "ipython3",
   "version": "3.9.7"
  },
  "orig_nbformat": 4
 },
 "nbformat": 4,
 "nbformat_minor": 2
}
