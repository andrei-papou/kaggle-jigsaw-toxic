{
 "cells": [
  {
   "cell_type": "code",
   "execution_count": 1,
   "metadata": {},
   "outputs": [],
   "source": [
    "import functools\n",
    "import random\n",
    "import typing as t\n",
    "from pathlib import Path\n",
    "\n",
    "import matplotlib.pyplot as plt\n",
    "import numpy as np\n",
    "import pandas as pd\n",
    "from tqdm.notebook import tqdm"
   ]
  },
  {
   "cell_type": "code",
   "execution_count": 2,
   "metadata": {},
   "outputs": [],
   "source": [
    "tqdm.pandas()"
   ]
  },
  {
   "cell_type": "code",
   "execution_count": 3,
   "metadata": {},
   "outputs": [],
   "source": [
    "def seed_everything(seed: int):\n",
    "    random.seed(seed)\n",
    "    np.random.seed(seed)\n",
    "\n",
    "seed_everything(42)"
   ]
  },
  {
   "cell_type": "code",
   "execution_count": 21,
   "metadata": {},
   "outputs": [],
   "source": [
    "COMBINED_DIR = Path('/home/jovyan/jigsaw-toxic/data/datasets/combined')\n",
    "MULTILABEL_DIR = Path('/home/jovyan/jigsaw-toxic/data/datasets/ccc-2017-multilabel')\n",
    "DATASET_DIR = Path('/home/jovyan/jigsaw-toxic/data/datasets/ccc-2017-regression')"
   ]
  },
  {
   "cell_type": "code",
   "execution_count": 23,
   "metadata": {},
   "outputs": [],
   "source": [
    "!mkdir -p $DATASET_DIR\n",
    "!cp $COMBINED_DIR/valid.csv $DATASET_DIR/valid.csv"
   ]
  },
  {
   "cell_type": "code",
   "execution_count": 5,
   "metadata": {},
   "outputs": [],
   "source": [
    "all_df = t.cast(pd.DataFrame, pd.read_csv(DATASET_DIR / 'train_no_leak.csv'))"
   ]
  },
  {
   "cell_type": "code",
   "execution_count": 6,
   "metadata": {},
   "outputs": [],
   "source": [
    "def generate_score_for_row(\n",
    "        row: t.Dict[str, int],\n",
    "        toxic_weight: float = 1.0,\n",
    "        severe_toxic_weight: float = 2.5,\n",
    "        obscene_weight: float = 1.0,\n",
    "        threat_weight: float = 1.0,\n",
    "        insult_weight: float = 1.0,\n",
    "        identity_hate_weight: float = 1.0) -> float:\n",
    "    score = row['toxic'] * toxic_weight + \\\n",
    "        row['severe_toxic'] * severe_toxic_weight + \\\n",
    "        row['obscene'] * obscene_weight + \\\n",
    "        row['threat'] * threat_weight + \\\n",
    "        row['insult'] * insult_weight + \\\n",
    "        row['identity_hate'] * identity_hate_weight\n",
    "    return score / (\n",
    "        toxic_weight + \n",
    "        severe_toxic_weight + \n",
    "        obscene_weight + \n",
    "        threat_weight + \n",
    "        insult_weight + \n",
    "        identity_hate_weight)"
   ]
  },
  {
   "cell_type": "code",
   "execution_count": 7,
   "metadata": {},
   "outputs": [
    {
     "data": {
      "application/vnd.jupyter.widget-view+json": {
       "model_id": "3d99eaf43a484a4a8f5fd1db2632b4bf",
       "version_major": 2,
       "version_minor": 0
      },
      "text/plain": [
       "  0%|          | 0/151942 [00:00<?, ?it/s]"
      ]
     },
     "metadata": {},
     "output_type": "display_data"
    }
   ],
   "source": [
    "all_df['score'] = all_df.progress_apply(\n",
    "    functools.partial(\n",
    "        generate_score_for_row,\n",
    "        toxic_weight=0.32,\n",
    "        severe_toxic_weight=1.5,\n",
    "        obscene_weight=0.16,\n",
    "        insult_weight=0.64,\n",
    "        threat_weight=1.5,\n",
    "        identity_hate_weight=1.5),\n",
    "    axis=1)"
   ]
  },
  {
   "cell_type": "code",
   "execution_count": 9,
   "metadata": {},
   "outputs": [
    {
     "data": {
      "image/png": "[encoded data removed]",
      "text/plain": [
       "<Figure size 432x288 with 1 Axes>"
      ]
     },
     "metadata": {
      "needs_background": "light"
     },
     "output_type": "display_data"
    }
   ],
   "source": [
    "plt.hist(all_df['score']);"
   ]
  },
  {
   "cell_type": "code",
   "execution_count": 12,
   "metadata": {},
   "outputs": [
    {
     "data": {
      "image/png": "[encoded data removed]",
      "text/plain": [
       "<Figure size 432x288 with 1 Axes>"
      ]
     },
     "metadata": {
      "needs_background": "light"
     },
     "output_type": "display_data"
    }
   ],
   "source": [
    "plt.hist(all_df[all_df['score'] > 0.0]['score'], bins=20);"
   ]
  },
  {
   "cell_type": "code",
   "execution_count": 13,
   "metadata": {},
   "outputs": [],
   "source": [
    "toxic_train_df = all_df[all_df['score'] > 0.0]\n",
    "non_toxic_train_df = all_df[all_df['score'] == 0.0].sample(n=int(len(toxic_train_df) * 0.25))\n",
    "train_df = pd.concat([toxic_train_df, non_toxic_train_df]).reset_index(drop=True)"
   ]
  },
  {
   "cell_type": "code",
   "execution_count": 15,
   "metadata": {},
   "outputs": [
    {
     "data": {
      "text/html": [
       "<div>\n",
       "<style scoped>\n",
       "    .dataframe tbody tr th:only-of-type {\n",
       "        vertical-align: middle;\n",
       "    }\n",
       "\n",
       "    .dataframe tbody tr th {\n",
       "        vertical-align: top;\n",
       "    }\n",
       "\n",
       "    .dataframe thead th {\n",
       "        text-align: right;\n",
       "    }\n",
       "</style>\n",
       "<table border=\"1\" class=\"dataframe\">\n",
       "  <thead>\n",
       "    <tr style=\"text-align: right;\">\n",
       "      <th></th>\n",
       "      <th>id</th>\n",
       "      <th>comment_text</th>\n",
       "      <th>toxic</th>\n",
       "      <th>severe_toxic</th>\n",
       "      <th>obscene</th>\n",
       "      <th>threat</th>\n",
       "      <th>insult</th>\n",
       "      <th>identity_hate</th>\n",
       "      <th>score</th>\n",
       "    </tr>\n",
       "  </thead>\n",
       "  <tbody>\n",
       "    <tr>\n",
       "      <th>0</th>\n",
       "      <td>0005c987bdfc9d4b</td>\n",
       "      <td>Hey... what is it..\\n@ | talk .\\nWhat is it......</td>\n",
       "      <td>1</td>\n",
       "      <td>0</td>\n",
       "      <td>0</td>\n",
       "      <td>0</td>\n",
       "      <td>0</td>\n",
       "      <td>0</td>\n",
       "      <td>0.056940</td>\n",
       "    </tr>\n",
       "    <tr>\n",
       "      <th>1</th>\n",
       "      <td>0007e25b2121310b</td>\n",
       "      <td>Bye! \\n\\nDon't look, come or think of comming ...</td>\n",
       "      <td>1</td>\n",
       "      <td>0</td>\n",
       "      <td>0</td>\n",
       "      <td>0</td>\n",
       "      <td>0</td>\n",
       "      <td>0</td>\n",
       "      <td>0.056940</td>\n",
       "    </tr>\n",
       "    <tr>\n",
       "      <th>2</th>\n",
       "      <td>001810bf8c45bf5f</td>\n",
       "      <td>You are gay or antisemmitian? \\n\\nArchangel WH...</td>\n",
       "      <td>1</td>\n",
       "      <td>0</td>\n",
       "      <td>1</td>\n",
       "      <td>0</td>\n",
       "      <td>1</td>\n",
       "      <td>1</td>\n",
       "      <td>0.466192</td>\n",
       "    </tr>\n",
       "    <tr>\n",
       "      <th>3</th>\n",
       "      <td>001956c382006abd</td>\n",
       "      <td>I'm Sorry \\n\\nI'm sorry I screwed around with ...</td>\n",
       "      <td>1</td>\n",
       "      <td>0</td>\n",
       "      <td>0</td>\n",
       "      <td>0</td>\n",
       "      <td>0</td>\n",
       "      <td>0</td>\n",
       "      <td>0.056940</td>\n",
       "    </tr>\n",
       "    <tr>\n",
       "      <th>4</th>\n",
       "      <td>001dc38a83d420cf</td>\n",
       "      <td>GET FUCKED UP. GET FUCKEEED UP.  GOT A DRINK T...</td>\n",
       "      <td>1</td>\n",
       "      <td>0</td>\n",
       "      <td>1</td>\n",
       "      <td>0</td>\n",
       "      <td>0</td>\n",
       "      <td>0</td>\n",
       "      <td>0.085409</td>\n",
       "    </tr>\n",
       "    <tr>\n",
       "      <th>...</th>\n",
       "      <td>...</td>\n",
       "      <td>...</td>\n",
       "      <td>...</td>\n",
       "      <td>...</td>\n",
       "      <td>...</td>\n",
       "      <td>...</td>\n",
       "      <td>...</td>\n",
       "      <td>...</td>\n",
       "      <td>...</td>\n",
       "    </tr>\n",
       "    <tr>\n",
       "      <th>15913</th>\n",
       "      <td>5231f743be85e2e9</td>\n",
       "      <td>\"Unnecessary unblock request ==\\n{{unblock-ip|...</td>\n",
       "      <td>0</td>\n",
       "      <td>0</td>\n",
       "      <td>0</td>\n",
       "      <td>0</td>\n",
       "      <td>0</td>\n",
       "      <td>0</td>\n",
       "      <td>0.000000</td>\n",
       "    </tr>\n",
       "    <tr>\n",
       "      <th>15914</th>\n",
       "      <td>72659ecf999a06df</td>\n",
       "      <td>Oh, and another thing. That section about mail...</td>\n",
       "      <td>0</td>\n",
       "      <td>0</td>\n",
       "      <td>0</td>\n",
       "      <td>0</td>\n",
       "      <td>0</td>\n",
       "      <td>0</td>\n",
       "      <td>0.000000</td>\n",
       "    </tr>\n",
       "    <tr>\n",
       "      <th>15915</th>\n",
       "      <td>f1c8b43b5060d052</td>\n",
       "      <td>Does not allow for faster-than-light communica...</td>\n",
       "      <td>0</td>\n",
       "      <td>0</td>\n",
       "      <td>0</td>\n",
       "      <td>0</td>\n",
       "      <td>0</td>\n",
       "      <td>0</td>\n",
       "      <td>0.000000</td>\n",
       "    </tr>\n",
       "    <tr>\n",
       "      <th>15916</th>\n",
       "      <td>dab9ec6680fd659b</td>\n",
       "      <td>The sock (a sock?) has been blocked now - see . -</td>\n",
       "      <td>0</td>\n",
       "      <td>0</td>\n",
       "      <td>0</td>\n",
       "      <td>0</td>\n",
       "      <td>0</td>\n",
       "      <td>0</td>\n",
       "      <td>0.000000</td>\n",
       "    </tr>\n",
       "    <tr>\n",
       "      <th>15917</th>\n",
       "      <td>9556fbf9c7225f32</td>\n",
       "      <td>Call for more investigation of an SPI you clos...</td>\n",
       "      <td>0</td>\n",
       "      <td>0</td>\n",
       "      <td>0</td>\n",
       "      <td>0</td>\n",
       "      <td>0</td>\n",
       "      <td>0</td>\n",
       "      <td>0.000000</td>\n",
       "    </tr>\n",
       "  </tbody>\n",
       "</table>\n",
       "<p>15918 rows × 9 columns</p>\n",
       "</div>"
      ],
      "text/plain": [
       "                     id                                       comment_text  \\\n",
       "0      0005c987bdfc9d4b  Hey... what is it..\\n@ | talk .\\nWhat is it......   \n",
       "1      0007e25b2121310b  Bye! \\n\\nDon't look, come or think of comming ...   \n",
       "2      001810bf8c45bf5f  You are gay or antisemmitian? \\n\\nArchangel WH...   \n",
       "3      001956c382006abd  I'm Sorry \\n\\nI'm sorry I screwed around with ...   \n",
       "4      001dc38a83d420cf  GET FUCKED UP. GET FUCKEEED UP.  GOT A DRINK T...   \n",
       "...                 ...                                                ...   \n",
       "15913  5231f743be85e2e9  \"Unnecessary unblock request ==\\n{{unblock-ip|...   \n",
       "15914  72659ecf999a06df  Oh, and another thing. That section about mail...   \n",
       "15915  f1c8b43b5060d052  Does not allow for faster-than-light communica...   \n",
       "15916  dab9ec6680fd659b  The sock (a sock?) has been blocked now - see . -   \n",
       "15917  9556fbf9c7225f32  Call for more investigation of an SPI you clos...   \n",
       "\n",
       "       toxic  severe_toxic  obscene  threat  insult  identity_hate     score  \n",
       "0          1             0        0       0       0              0  0.056940  \n",
       "1          1             0        0       0       0              0  0.056940  \n",
       "2          1             0        1       0       1              1  0.466192  \n",
       "3          1             0        0       0       0              0  0.056940  \n",
       "4          1             0        1       0       0              0  0.085409  \n",
       "...      ...           ...      ...     ...     ...            ...       ...  \n",
       "15913      0             0        0       0       0              0  0.000000  \n",
       "15914      0             0        0       0       0              0  0.000000  \n",
       "15915      0             0        0       0       0              0  0.000000  \n",
       "15916      0             0        0       0       0              0  0.000000  \n",
       "15917      0             0        0       0       0              0  0.000000  \n",
       "\n",
       "[15918 rows x 9 columns]"
      ]
     },
     "execution_count": 15,
     "metadata": {},
     "output_type": "execute_result"
    }
   ],
   "source": [
    "train_df"
   ]
  },
  {
   "cell_type": "code",
   "execution_count": 25,
   "metadata": {},
   "outputs": [
    {
     "data": {
      "image/png": "[encoded data removed]",
      "text/plain": [
       "<Figure size 432x288 with 1 Axes>"
      ]
     },
     "metadata": {
      "needs_background": "light"
     },
     "output_type": "display_data"
    }
   ],
   "source": [
    "plt.hist(train_df['score'], bins=20);"
   ]
  },
  {
   "cell_type": "code",
   "execution_count": 26,
   "metadata": {},
   "outputs": [],
   "source": [
    "train_df.to_csv(DATASET_DIR / 'train.csv', index=False)"
   ]
  },
  {
   "cell_type": "code",
   "execution_count": 28,
   "metadata": {},
   "outputs": [
    {
     "name": "stdout",
     "output_type": "stream",
     "text": [
      "total 14032\n",
      "drwxr-xr-x  2 jovyan users    4096 Feb  3 20:53 .\n",
      "drwxr-xr-x 12 jovyan users    4096 Feb  3 20:48 ..\n",
      "-rw-r--r--  1 jovyan users 5725706 Feb  3 20:53 train.csv\n",
      "-rw-r--r--  1 jovyan users 8633656 Feb  3 20:49 valid.csv\n"
     ]
    }
   ],
   "source": [
    "!ls -la $DATASET_DIR"
   ]
  }
 ],
 "metadata": {
  "interpreter": {
   "hash": "d4d1e4263499bec80672ea0156c357c1ee493ec2b1c70f0acce89fc37c4a6abe"
  },
  "kernelspec": {
   "display_name": "Python 3.9.7 64-bit ('base': conda)",
   "language": "python",
   "name": "python3"
  },
  "language_info": {
   "codemirror_mode": {
    "name": "ipython",
    "version": 3
   },
   "file_extension": ".py",
   "mimetype": "text/x-python",
   "name": "python",
   "nbconvert_exporter": "python",
   "pygments_lexer": "ipython3",
   "version": "3.9.7"
  },
  "orig_nbformat": 4
 },
 "nbformat": 4,
 "nbformat_minor": 2
}
