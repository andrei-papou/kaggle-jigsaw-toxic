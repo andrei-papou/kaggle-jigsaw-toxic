{
 "cells": [
  {
   "cell_type": "markdown",
   "metadata": {},
   "source": [
    "### Imports"
   ]
  },
  {
   "cell_type": "code",
   "execution_count": 2,
   "metadata": {},
   "outputs": [],
   "source": [
    "import functools\n",
    "import operator\n",
    "import typing as t\n",
    "from dataclasses import dataclass\n",
    "from pathlib import Path\n",
    "\n",
    "import matplotlib.pyplot as plt\n",
    "import pandas as pd\n",
    "import typing_extensions as t_ext\n",
    "from tqdm.notebook import tqdm\n",
    "from transformers.models.auto.tokenization_auto import AutoTokenizer"
   ]
  },
  {
   "cell_type": "code",
   "execution_count": 3,
   "metadata": {},
   "outputs": [],
   "source": [
    "tqdm.pandas()"
   ]
  },
  {
   "cell_type": "code",
   "execution_count": 4,
   "metadata": {},
   "outputs": [],
   "source": [
    "COMBINED_DIR = Path('/home/jovyan/jigsaw-toxic/data/datasets/combined')\n",
    "CCC2017_DIR = Path('/home/jovyan/jigsaw-toxic/data/datasets/ccc-2017-multilabel')"
   ]
  },
  {
   "cell_type": "code",
   "execution_count": 5,
   "metadata": {},
   "outputs": [],
   "source": [
    "valid_labeled_df = pd.read_csv(CCC2017_DIR / 'valid_labeled.csv')"
   ]
  },
  {
   "cell_type": "code",
   "execution_count": 6,
   "metadata": {},
   "outputs": [
    {
     "data": {
      "application/vnd.jupyter.widget-view+json": {
       "model_id": "21e1de04340a438aac1290c895bfcdb3",
       "version_major": 2,
       "version_minor": 0
      },
      "text/plain": [
       "  0%|          | 0/10108 [00:00<?, ?it/s]"
      ]
     },
     "metadata": {},
     "output_type": "display_data"
    }
   ],
   "source": [
    "comment_to_label_dict = {}\n",
    "for _, row in tqdm(valid_labeled_df.iterrows(), total=len(valid_labeled_df)):\n",
    "    comment_to_label_dict[str(row['more_toxic'])] = str(row['more_toxic_bitmap_label'])\n",
    "    comment_to_label_dict[str(row['less_toxic'])] = str(row['less_toxic_bitmap_label'])"
   ]
  },
  {
   "cell_type": "code",
   "execution_count": 29,
   "metadata": {},
   "outputs": [],
   "source": [
    "# tokenizer = AutoTokenizer.from_pretrained('roberta-base')\n",
    "\n",
    "def _generate_text_token_len(df: pd.DataFrame) -> pd.DataFrame:\n",
    "    df = df.copy()\n",
    "    # df['more_toxic_token_len'] = df['more_toxic'].progress_apply(\n",
    "    #     lambda text: len([\n",
    "    #         i for i in tokenizer(text, add_special_tokens=True,\n",
    "    #             truncation=True,\n",
    "    #             padding='max_length',\n",
    "    #             max_length=256)['input_ids']\n",
    "    #         if i != 1\n",
    "    #     ]))\n",
    "    # df['less_toxic_token_len'] = df['less_toxic'].progress_apply(\n",
    "    #     lambda text: len([\n",
    "    #         i for i in tokenizer(text, add_special_tokens=True,\n",
    "    #             truncation=True,\n",
    "    #             padding='max_length',\n",
    "    #             max_length=256)['input_ids']\n",
    "    #         if i != 1\n",
    "    #     ]))\n",
    "    return df\n",
    "\n",
    "\n",
    "def _load_labels(df: pd.DataFrame) -> pd.DataFrame:\n",
    "    df = df.copy()\n",
    "    df['more_toxic_bitmap_label'] = df['more_toxic'].apply(lambda txt: comment_to_label_dict[txt])\n",
    "    df['less_toxic_bitmap_label'] = df['less_toxic'].apply(lambda txt: comment_to_label_dict[txt])\n",
    "    return df\n",
    "\n",
    "\n",
    "def _bitmap_str_to_idx_set(label: str) -> t.Set[int]:\n",
    "    return {i for i, b in enumerate(label.split(' ')) if int(b) == 1}\n",
    "\n",
    "\n",
    "def _is_subset(row) -> int:\n",
    "    more_idx_set = _bitmap_str_to_idx_set(row['more_toxic_bitmap_label'])\n",
    "    less_idx_set = _bitmap_str_to_idx_set(row['less_toxic_bitmap_label'])\n",
    "    return int(less_idx_set.issubset(more_idx_set) and less_idx_set != more_idx_set)\n",
    "\n",
    "\n",
    "def _is_subset_reversed(row) -> int:\n",
    "    more_idx_set = _bitmap_str_to_idx_set(row['more_toxic_bitmap_label'])\n",
    "    less_idx_set = _bitmap_str_to_idx_set(row['less_toxic_bitmap_label'])\n",
    "    return int(more_idx_set.issubset(less_idx_set) and less_idx_set != more_idx_set)\n",
    "\n",
    "\n",
    "@dataclass\n",
    "class ModelConfig:\n",
    "    model_name: str\n",
    "    best_epoch: int\n",
    "\n",
    "    @property\n",
    "    def error_csv_path(self) -> str:\n",
    "        return f'/home/jovyan/jigsaw-toxic/artifacts/{self.model_name}/{self.best_epoch}.csv'\n",
    "\n",
    "    def get_df(self) -> pd.DataFrame:\n",
    "        df = pd.read_csv(self.error_csv_path)\n",
    "        df['id'] = df.progress_apply(lambda row: row['less_toxic'] + ' ' + row['more_toxic'], axis=1)\n",
    "        df = _generate_text_token_len(df)\n",
    "        df = _load_labels(df)\n",
    "        df['is_subset'] = df.progress_apply(_is_subset, axis=1)\n",
    "        df['is_subset_reversed'] = df.progress_apply(_is_subset_reversed, axis=1)\n",
    "        return df\n",
    "\n",
    "\n",
    "model_list = [\n",
    "    ModelConfig(\n",
    "        model_name='ccc-2017-multilabel-harder-cls-loss_0p5-v2-valfreq_dynamic_v1',\n",
    "        best_epoch=26,\n",
    "    ),\n",
    "    ModelConfig(\n",
    "        model_name='ubtc-multireg-w50-cos_warmup-opt-2ep-ut_roberta-valfreq_dynamic_v1-seed_42',\n",
    "        best_epoch=14,\n",
    "    ),\n",
    "    # ModelConfig(\n",
    "    #     model_name='margin-ranking-ruddit-v1-no-quotes-mse-0_5',\n",
    "    #     best_epoch=7,\n",
    "    # ),\n",
    "    # ModelConfig(\n",
    "    #     model_name='margin-ranking-offenseval-2020-v1',\n",
    "    #     best_epoch=13,\n",
    "    # ),\n",
    "    # ModelConfig(\n",
    "    #     model_name='ccc-2017-multilabel-harder',\n",
    "    #     best_epoch=9),\n",
    "    # ModelConfig(\n",
    "    #     model_name='ccc-2017-multilabel-harder-cls-loss_0p5',\n",
    "    #     best_epoch=5),\n",
    "    # ModelConfig(\n",
    "    #     model_name='ccc-2017-multilabel-harder-cls-loss_dynamic_step3',\n",
    "    #     best_epoch=2),\n",
    "    # ModelConfig(\n",
    "    #     model_name='ccc-2017-multilabel-harder-cls-loss_0p5-blind-regressor',\n",
    "    #     best_epoch=9),\n",
    "]"
   ]
  },
  {
   "cell_type": "markdown",
   "metadata": {},
   "source": [
    "### Data loading"
   ]
  },
  {
   "cell_type": "code",
   "execution_count": 30,
   "metadata": {},
   "outputs": [
    {
     "data": {
      "application/vnd.jupyter.widget-view+json": {
       "model_id": "a1ad7b821c894d90b5ac86d74211f890",
       "version_major": 2,
       "version_minor": 0
      },
      "text/plain": [
       "  0%|          | 0/10108 [00:00<?, ?it/s]"
      ]
     },
     "metadata": {},
     "output_type": "display_data"
    },
    {
     "data": {
      "application/vnd.jupyter.widget-view+json": {
       "model_id": "00210156839d4238a660e3bf55d18864",
       "version_major": 2,
       "version_minor": 0
      },
      "text/plain": [
       "  0%|          | 0/10108 [00:00<?, ?it/s]"
      ]
     },
     "metadata": {},
     "output_type": "display_data"
    },
    {
     "data": {
      "application/vnd.jupyter.widget-view+json": {
       "model_id": "a4da668a9cc84c66a0f1c96764adce60",
       "version_major": 2,
       "version_minor": 0
      },
      "text/plain": [
       "  0%|          | 0/10108 [00:00<?, ?it/s]"
      ]
     },
     "metadata": {},
     "output_type": "display_data"
    },
    {
     "data": {
      "application/vnd.jupyter.widget-view+json": {
       "model_id": "9267ef8c7b0d422fbf928b97b4a71db9",
       "version_major": 2,
       "version_minor": 0
      },
      "text/plain": [
       "  0%|          | 0/10108 [00:00<?, ?it/s]"
      ]
     },
     "metadata": {},
     "output_type": "display_data"
    },
    {
     "data": {
      "application/vnd.jupyter.widget-view+json": {
       "model_id": "c1ae312144ac4a42ad6a2e1b8cfcf339",
       "version_major": 2,
       "version_minor": 0
      },
      "text/plain": [
       "  0%|          | 0/10108 [00:00<?, ?it/s]"
      ]
     },
     "metadata": {},
     "output_type": "display_data"
    },
    {
     "data": {
      "application/vnd.jupyter.widget-view+json": {
       "model_id": "ef0efc6dbb1f4023a1b54db8860ffeb8",
       "version_major": 2,
       "version_minor": 0
      },
      "text/plain": [
       "  0%|          | 0/10108 [00:00<?, ?it/s]"
      ]
     },
     "metadata": {},
     "output_type": "display_data"
    }
   ],
   "source": [
    "df_dict: t.Dict[str, pd.DataFrame] = {m.model_name: m.get_df() for m in model_list}"
   ]
  },
  {
   "cell_type": "markdown",
   "metadata": {},
   "source": [
    "### Label analysis"
   ]
  },
  {
   "cell_type": "code",
   "execution_count": 31,
   "metadata": {},
   "outputs": [],
   "source": [
    "ccc2017_df = df_dict['ccc-2017-multilabel-harder-cls-loss_0p5-v2-valfreq_dynamic_v1']\n",
    "ubtc_df = df_dict['ubtc-multireg-w50-cos_warmup-opt-2ep-ut_roberta-valfreq_dynamic_v1-seed_42']"
   ]
  },
  {
   "cell_type": "code",
   "execution_count": 32,
   "metadata": {},
   "outputs": [],
   "source": [
    "def get_identical_label_scores(df: pd.DataFrame):\n",
    "    ok_df = df[df['error'] == 0.0]\n",
    "    err_df = df[df['error'] > 0.0]\n",
    "    print(len(ok_df[ok_df['more_toxic_bitmap_label'] == ok_df['less_toxic_bitmap_label']]) / len(ok_df))\n",
    "    print(len(err_df[err_df['more_toxic_bitmap_label'] == err_df['less_toxic_bitmap_label']]) / len(err_df))"
   ]
  },
  {
   "cell_type": "code",
   "execution_count": 33,
   "metadata": {},
   "outputs": [],
   "source": [
    "def get_is_subset_scores(df: pd.DataFrame):\n",
    "    ok_df = df[df['error'] == 0.0]\n",
    "    err_df = df[df['error'] > 0.0]\n",
    "    print(len(ok_df[ok_df['is_subset'] == 1]) / len(ok_df))\n",
    "    print(len(err_df[err_df['is_subset'] == 1]) / len(err_df))\n",
    "\n",
    "def get_is_subset_reversed_scores(df: pd.DataFrame):\n",
    "    ok_df = df[df['error'] == 0.0]\n",
    "    err_df = df[df['error'] > 0.0]\n",
    "    print(len(ok_df[ok_df['is_subset_reversed'] == 1]) / len(ok_df))\n",
    "    print(len(err_df[err_df['is_subset_reversed'] == 1]) / len(err_df))"
   ]
  },
  {
   "cell_type": "code",
   "execution_count": 34,
   "metadata": {},
   "outputs": [
    {
     "name": "stdout",
     "output_type": "stream",
     "text": [
      "0.2954847277556441\n",
      "0.5543056633048875\n",
      "0.2967252396166134\n",
      "0.5489214175654854\n"
     ]
    }
   ],
   "source": [
    "get_identical_label_scores(ccc2017_df)\n",
    "get_identical_label_scores(ubtc_df)"
   ]
  },
  {
   "cell_type": "code",
   "execution_count": 35,
   "metadata": {},
   "outputs": [
    {
     "name": "stdout",
     "output_type": "stream",
     "text": [
      "0.6634794156706507\n",
      "0.06710628394103957\n",
      "0.6481629392971247\n",
      "0.11556240369799692\n"
     ]
    }
   ],
   "source": [
    "get_is_subset_scores(ccc2017_df)\n",
    "get_is_subset_scores(ubtc_df)"
   ]
  },
  {
   "cell_type": "code",
   "execution_count": 36,
   "metadata": {},
   "outputs": [
    {
     "name": "stdout",
     "output_type": "stream",
     "text": [
      "0.028552456839309428\n",
      "0.35686578743211794\n",
      "0.041001064962726305\n",
      "0.31856702619414484\n"
     ]
    }
   ],
   "source": [
    "get_is_subset_reversed_scores(ccc2017_df)\n",
    "get_is_subset_reversed_scores(ubtc_df)"
   ]
  },
  {
   "cell_type": "code",
   "execution_count": 38,
   "metadata": {},
   "outputs": [
    {
     "data": {
      "text/plain": [
       "0.11228729719034428"
      ]
     },
     "execution_count": 38,
     "metadata": {},
     "output_type": "execute_result"
    }
   ],
   "source": [
    "len(ccc2017_df[ccc2017_df['is_subset_reversed'] == 1]) / len(ccc2017_df)"
   ]
  },
  {
   "cell_type": "markdown",
   "metadata": {},
   "source": [
    "### How many error samples do we have in common?"
   ]
  },
  {
   "cell_type": "code",
   "execution_count": 6,
   "metadata": {},
   "outputs": [],
   "source": [
    "def _get_error_id_set_dict(df_dict: t.Dict[str, pd.DataFrame]) -> t.Dict[str, t.Set[str]]:\n",
    "    error_id_set_dict: t.Dict[str, t.Set[str]] = {}\n",
    "    common_id_set: t.Optional[t.Set[str]] = None\n",
    "    for model_name, df in df_dict.items():\n",
    "        error_df = df[df['error'] > 0]\n",
    "        error_id_set = set(error_df['id'].unique())\n",
    "        common_id_set = common_id_set & error_id_set if common_id_set is not None else error_id_set\n",
    "        error_id_set_dict[model_name] = error_id_set\n",
    "    assert common_id_set is not None\n",
    "    error_id_set_dict['common'] = common_id_set\n",
    "    return error_id_set_dict"
   ]
  },
  {
   "cell_type": "code",
   "execution_count": 7,
   "metadata": {},
   "outputs": [],
   "source": [
    "error_id_set_dict = _get_error_id_set_dict(df_dict)"
   ]
  },
  {
   "cell_type": "code",
   "execution_count": 8,
   "metadata": {},
   "outputs": [
    {
     "name": "stdout",
     "output_type": "stream",
     "text": [
      "ccc-2017-multilabel-v4-cls-loss_0p9-reg-toxic_bert-noapprox-valfreq_dynamic_v1: 3167\n",
      "certainty: 0.7411300919842313\n"
     ]
    },
    {
     "data": {
      "image/png": "[encoded data removed]",
      "text/plain": [
       "<Figure size 432x288 with 1 Axes>"
      ]
     },
     "metadata": {
      "needs_background": "light"
     },
     "output_type": "display_data"
    },
    {
     "name": "stdout",
     "output_type": "stream",
     "text": [
      "margin-ranking-ruddit-v1-no-quotes-mse-0_5: 3091\n",
      "certainty: 0.7411300919842313\n"
     ]
    },
    {
     "data": {
      "image/png": "[encoded data removed]",
      "text/plain": [
       "<Figure size 432x288 with 1 Axes>"
      ]
     },
     "metadata": {
      "needs_background": "light"
     },
     "output_type": "display_data"
    },
    {
     "name": "stdout",
     "output_type": "stream",
     "text": [
      "common: 1522\n"
     ]
    }
   ],
   "source": [
    "for model_name, id_set in error_id_set_dict.items():\n",
    "    print(f'{model_name}: {len(id_set)}')\n",
    "    if model_name != 'common':\n",
    "        df = df_dict[model_name]\n",
    "        common_error_df = df[df['id'].isin(error_id_set_dict['common'])]\n",
    "        print(f'certainty: {len(common_error_df[common_error_df[\"certainty\"] < 1.0]) / len(common_error_df)}')\n",
    "        plt.show(plt.hist(common_error_df['error']))"
   ]
  },
  {
   "cell_type": "code",
   "execution_count": 15,
   "metadata": {},
   "outputs": [],
   "source": [
    "def _get_error_df(error_id_set_dict: t.Dict[str, t.Set[str]]) -> pd.DataFrame:\n",
    "    comment_to_count_dict = {}\n",
    "    for cid in functools.reduce(operator.ior, error_id_set_dict.values()):\n",
    "        comment_to_count_dict[cid] = len([_ for _, comment_set in error_id_set_dict.items() if cid in comment_set])\n",
    "    return pd.DataFrame([{'id': cid, 'mistaken_model_count': mmc} for cid, mmc in comment_to_count_dict.items()])"
   ]
  },
  {
   "cell_type": "code",
   "execution_count": 16,
   "metadata": {},
   "outputs": [],
   "source": [
    "error_df = _get_error_df(error_id_set_dict)"
   ]
  },
  {
   "cell_type": "code",
   "execution_count": 20,
   "metadata": {},
   "outputs": [
    {
     "data": {
      "image/png": "[encoded data removed]",
      "text/plain": [
       "<Figure size 432x288 with 1 Axes>"
      ]
     },
     "metadata": {
      "needs_background": "light"
     },
     "output_type": "display_data"
    }
   ],
   "source": [
    "plt.hist(error_df['mistaken_model_count'], bins=6);"
   ]
  },
  {
   "cell_type": "code",
   "execution_count": 21,
   "metadata": {},
   "outputs": [
    {
     "data": {
      "text/plain": [
       "0.46594636311016785"
      ]
     },
     "execution_count": 21,
     "metadata": {},
     "output_type": "execute_result"
    }
   ],
   "source": [
    "len(error_df[error_df['mistaken_model_count'] < 3]) / len(error_df)"
   ]
  },
  {
   "cell_type": "code",
   "execution_count": 13,
   "metadata": {},
   "outputs": [],
   "source": [
    "def _sample_one(df: pd.DataFrame):\n",
    "    row = df.sample(n=1).iloc[0]\n",
    "    print(f'ERROR: {row[\"error\"]}')\n",
    "    print(f'CERTAINTY: {row[\"certainty\"]}')\n",
    "    print('=' * 10)\n",
    "    print('LESS TOXIC:')\n",
    "    print(str(row['less_toxic']))\n",
    "    print('=' * 10)\n",
    "    print('MORE TOXIC:')\n",
    "    print(str(row['more_toxic']))"
   ]
  },
  {
   "cell_type": "code",
   "execution_count": 14,
   "metadata": {},
   "outputs": [
    {
     "name": "stdout",
     "output_type": "stream",
     "text": [
      "ERROR: 0.0584297031164169\n",
      "CERTAINTY: 0.6666666666666666\n",
      "==========\n",
      "LESS TOXIC:\n",
      "\"\n",
      "\"\"Primary sources are generally not acceptable.\"\"  Bwa ha ha ha ha ha.  Seriously?  Are you completely stoned or drunk?  You are certainly not a researcher, historian or even a student to make such a ridiculous and derelict statement.  Indeed, you expose yourself to ridicule, scorn, and certainly to the laughter of ANY serious student, writer, and certainly to the Titanic community.  We will start with my personal Facebook page, and go from there.  Too bad for you that you can't delete your ill-advised and stupid remark.  And no doubt about it, it was stupid beyond any means of defense.\"\n",
      "==========\n",
      "MORE TOXIC:\n",
      "\"\n",
      "\n",
      " Miro quote \n",
      "\n",
      "\"\"in his words \"\"murder\"\" and \"\"assassinate\"\" and or \"\"rape\"\" them\"\" Can we find a source for this refrence, prehaps an in-context quote?\"\n"
     ]
    }
   ],
   "source": [
    "_df = df_dict['ccc-2017-multilabel-v3-cls-att-blind-reg']\n",
    "_id_set = error_id_set_dict['common']\n",
    "_sample_one(_df[_df['id'].isin(_id_set)])"
   ]
  },
  {
   "cell_type": "code",
   "execution_count": 20,
   "metadata": {},
   "outputs": [
    {
     "name": "stdout",
     "output_type": "stream",
     "text": [
      "less_toxic_total = 111\n",
      "more_toxic_total = 467\n",
      "less_toxic_only = 104\n",
      "more_toxic_only = 460\n"
     ]
    }
   ],
   "source": [
    "token = 'bitch'\n",
    "filter_less_contains = _df['less_toxic'].str.lower().str.contains(token)\n",
    "filter_more_contains = _df['more_toxic'].str.lower().str.contains(token)\n",
    "less_toxic_total = len(_df[filter_less_contains])\n",
    "more_toxic_total = len(_df[filter_more_contains])\n",
    "less_toxic_only = len(_df[filter_less_contains & ~filter_more_contains])\n",
    "more_toxic_only = len(_df[~filter_less_contains & filter_more_contains])\n",
    "\n",
    "print(f'less_toxic_total = {less_toxic_total}')\n",
    "print(f'more_toxic_total = {more_toxic_total}')\n",
    "print(f'less_toxic_only = {less_toxic_only}')\n",
    "print(f'more_toxic_only = {more_toxic_only}')"
   ]
  }
 ],
 "metadata": {
  "interpreter": {
   "hash": "d4d1e4263499bec80672ea0156c357c1ee493ec2b1c70f0acce89fc37c4a6abe"
  },
  "kernelspec": {
   "display_name": "Python 3.9.7 64-bit ('base': conda)",
   "language": "python",
   "name": "python3"
  },
  "language_info": {
   "codemirror_mode": {
    "name": "ipython",
    "version": 3
   },
   "file_extension": ".py",
   "mimetype": "text/x-python",
   "name": "python",
   "nbconvert_exporter": "python",
   "pygments_lexer": "ipython3",
   "version": "3.9.7"
  },
  "orig_nbformat": 4
 },
 "nbformat": 4,
 "nbformat_minor": 2
}
